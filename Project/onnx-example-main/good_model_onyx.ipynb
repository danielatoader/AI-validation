{
 "cells": [
  {
   "cell_type": "code",
   "execution_count": 1,
   "id": "aa476b3d",
   "metadata": {
    "ExecuteTime": {
     "end_time": "2024-03-09T07:27:55.674314Z",
     "start_time": "2024-03-09T07:27:54.592382Z"
    }
   },
   "outputs": [],
   "source": [
    "import pandas as pd\n",
    "import numpy as np\n",
    "from sklearn.model_selection import train_test_split\n",
    "import onnxruntime as rt\n",
    "import onnx\n",
    "from skl2onnx.common.data_types import FloatTensorType\n",
    "from skl2onnx import to_onnx\n",
    "from sklearn.feature_selection import VarianceThreshold\n",
    "from sklearn.ensemble import GradientBoostingClassifier, RandomForestClassifier\n",
    "from sklearn.metrics import accuracy_score\n",
    "from sklearn.pipeline import Pipeline\n",
    "from skl2onnx import convert_sklearn\n",
    "from sklearn.preprocessing import StandardScaler\n",
    "\n",
    "\n",
    "# Temporarily adjust pandas display settings for large DataFrames\n",
    "pd.set_option('display.max_rows', 100)  # Ensure 100 rows can be displayed\n",
    "pd.set_option('display.max_columns', None)  # Ensure all columns can be displayed\n",
    "pd.set_option('display.width', None)  # Automatically adjust display width to terminal size\n",
    "pd.set_option('display.max_colwidth', None)  # Ensure full width of column content is shown\n",
    "pd.set_option('display.float_format', '{:.4f}'.format)  # Format the float numbers for better readability\n"
   ]
  },
  {
   "cell_type": "markdown",
   "source": [
    "# Data preprocessing and feature selection"
   ],
   "metadata": {
    "collapsed": false
   },
   "id": "f5c68733094bb7d"
  },
  {
   "cell_type": "code",
   "execution_count": 2,
   "outputs": [],
   "source": [
    "# Let's load the dataset\n",
    "data = pd.read_csv('data/synth_data_for_training.csv')"
   ],
   "metadata": {
    "collapsed": false,
    "ExecuteTime": {
     "end_time": "2024-03-09T07:27:55.775477Z",
     "start_time": "2024-03-09T07:27:55.674909Z"
    }
   },
   "id": "9e08d21e4405f83b"
  },
  {
   "cell_type": "code",
   "execution_count": 3,
   "outputs": [
    {
     "name": "stdout",
     "output_type": "stream",
     "text": [
      "Highly Positive Correlated Pairs:\n",
      "contacten_onderwerp_boolean_contact_derden and contacten_onderwerp_contact_derden with correlation 0.75\n",
      "contacten_onderwerp_boolean_ziek__of_afmelding and contacten_onderwerp_ziek__of_afmelding with correlation 0.75\n",
      "contacten_onderwerp_boolean_contact_met_aanbieder and contacten_onderwerp_contact_met_aanbieder with correlation 0.75\n",
      "contacten_onderwerp_boolean_uitnodiging and contacten_onderwerp_uitnodiging with correlation 0.75\n",
      "afspraak_signaal_van_aanbieder and contacten_soort_rapportage_rib with correlation 0.74\n",
      "contacten_onderwerp_boolean_documenttype__overeenkomst_ and contacten_onderwerp_documenttype__overeenkomst_ with correlation 0.74\n",
      "afspraak_afgelopen_jaar_signaal_voor_medewerker and afspraak_signaal_voor_medewerker with correlation 0.73\n",
      "afspraak_afgelopen_jaar_signaal_voor_medewerker and afspraak_laatstejaar_aantal_woorden with correlation 0.73\n",
      "contacten_onderwerp_boolean_matching and contacten_onderwerp_matching with correlation 0.73\n",
      "contacten_onderwerp_boolean_financiële_situatie and contacten_onderwerp_financiële_situatie with correlation 0.73\n",
      "contacten_onderwerp_boolean_overleg_met_inkomen and contacten_onderwerp_overleg_met_inkomen with correlation 0.72\n",
      "contacten_onderwerp_boolean_inkomen and contacten_onderwerp_inkomen with correlation 0.72\n",
      "contacten_onderwerp__pre__intake and contacten_onderwerp_boolean__pre__intake with correlation 0.71\n",
      "contacten_onderwerp_boolean_no_show and contacten_onderwerp_no_show with correlation 0.71\n",
      "contacten_onderwerp_boolean_documenttype__cv_ and contacten_onderwerp_documenttype__cv_ with correlation 0.71\n",
      "contacten_onderwerp_boolean_zorg and contacten_onderwerp_zorg with correlation 0.71\n",
      "adres_aantal_brp_adres and adres_aantal_verschillende_wijken with correlation 0.71\n",
      "belemmering_hist_psychische_problemen and belemmering_psychische_problemen with correlation 0.70\n",
      "afspraak_deelname_compleet_uit_webapplicatie and contacten_soort_rapportage_rib with correlation 0.70\n",
      "contacten_onderwerp_boolean_groepsbijeenkomst and contacten_onderwerp_groepsbijeenkomst with correlation 0.70\n",
      "relatie_overig_actueel_vorm__kostendeler and relatie_overig_kostendeler with correlation 0.70\n",
      "belemmering_aantal_huidig and belemmering_ind with correlation 0.70\n",
      "contacten_onderwerp__arbeids_motivatie and contacten_onderwerp_boolean__arbeids_motivatie with correlation 0.69\n",
      "contacten_onderwerp_boolean_terugbelverzoek and contacten_onderwerp_terugbelverzoek with correlation 0.69\n",
      "relatie_kind_heeft_kinderen and relatie_kind_huidige_aantal with correlation 0.68\n",
      "afspraak_afgelopen_jaar_voortgang_aanmelding_en_deelname and afspraak_laatstejaar_resultaat_ingevuld with correlation 0.68\n",
      "relatie_overig_actueel_vorm__kostendeler and relatie_overig_historie_vorm__kostendeler with correlation 0.68\n",
      "contacten_onderwerp_beoordelen_taaleis and contacten_onderwerp_boolean_beoordelen_taaleis with correlation 0.67\n",
      "afspraak_afgelopen_jaar_voortgang_aanmelding_en_deelname and instrument_aantal_laatstejaar with correlation 0.67\n",
      "contacten_onderwerp__werk_intake and contacten_onderwerp_boolean__werk_intake with correlation 0.67\n",
      "afspraak_laatstejaar_resultaat_ingevuld and instrument_aantal_laatstejaar with correlation 0.67\n",
      "contacten_onderwerp_boolean_scholing and contacten_onderwerp_scholing with correlation 0.66\n",
      "relatie_partner_aantal_partner___partner__gehuwd_ and relatie_partner_totaal_dagen_partner with correlation 0.66\n",
      "afspraak_deelname_compleet_uit_webapplicatie and afspraak_signaal_van_aanbieder with correlation 0.66\n",
      "deelname_act_actueel_projecten_uniek and instrument_ladder_huidig_activering with correlation 0.65\n",
      "contacten_onderwerp_boolean_diagnosegesprek and contacten_onderwerp_diagnosegesprek with correlation 0.63\n",
      "deelname_act_actueel_projecten_uniek and pla_ondertekeningen_actueel with correlation 0.63\n",
      "contacten_soort_afgelopenjaar_document__uitgaand_ and contacten_soort_afgelopenjaar_gesprek with correlation 0.63\n",
      "contacten_onderwerp_boolean_overige and contacten_onderwerp_overige with correlation 0.63\n",
      "afspraak_afgelopen_jaar_plan_van_aanpak and afspraak_afgelopen_jaar_voortgang_aanmelding_en_deelname with correlation 0.62\n",
      "pla_actueel_pla_categorie_doelstelling_16 and pla_hist_pla_categorie_doelstelling_16 with correlation 0.62\n",
      "afspraak_aantal_woorden and afspraak_laatstejaar_aantal_woorden with correlation 0.62\n",
      "afspraak_laatstejaar_resultaat_ingevuld and afspraak_laatstejaar_resultaat_ingevuld_uniek with correlation 0.62\n",
      "beschikbaarheid_aantal_historie_afwijkend_wegens_medische_omstandigheden and beschikbaarheid_recent_afwijkend_wegens_medische_omstandigheden with correlation 0.62\n",
      "afspraak_galo_gesprek and afspraak_gespr__einde_zoekt___galo_gesprek_ with correlation 0.61\n",
      "relatie_kind_huidige_aantal and relatie_kind_leeftijd_verschil_ouder_eerste_kind with correlation 0.61\n",
      "typering_aantal and typering_hist_aantal with correlation 0.60\n",
      "afspraak_galo_gesprek and contacten_onderwerp__werk_intake with correlation 0.60\n",
      "contacten_onderwerp_boolean_traject and contacten_onderwerp_traject with correlation 0.60\n",
      "contacten_onderwerp_boolean_maatregel_overweging and contacten_onderwerp_maatregel_overweging with correlation 0.60\n",
      "competentie_met_druk_en_tegenslag_omgaan and competentie_omgaan_met_verandering_en_aanpassen with correlation 0.59\n",
      "contacten_onderwerp_boolean_documenten__innemen_ and contacten_onderwerp_documenten__innemen_ with correlation 0.59\n",
      "afspraak_afgelopen_jaar_voortgang_aanmelding_en_deelname and afspraak_laatstejaar_resultaat_ingevuld_uniek with correlation 0.59\n",
      "contacten_onderwerp_documenten__innemen_ and contacten_soort_document__inkomend_ with correlation 0.59\n",
      "afspraak_resultaat_ingevuld_uniek and contacten_onderwerp__werk_intake with correlation 0.59\n",
      "belemmering_ind and belemmering_ind_hist with correlation 0.58\n",
      "pla_hist_pla_categorie_doelstelling_6 and pla_historie_maatschappelijke_inspanning with correlation 0.57\n",
      "instrument_ladder_huidig_activering and pla_ondertekeningen_actueel with correlation 0.57\n",
      "contacten_soort_afgelopenjaar_e_mail__inkomend_ and contacten_soort_afgelopenjaar_e_mail__uitgaand_ with correlation 0.57\n",
      "contacten_soort_afgelopenjaar_rapportage_rib and contacten_soort_rapportage_rib with correlation 0.57\n",
      "afspraak_galo_gesprek and afspraak_resultaat_ingevuld_uniek with correlation 0.56\n",
      "contacten_onderwerp__werk_intake and contacten_onderwerp_inspanningstoets with correlation 0.56\n",
      "relatie_kind_heeft_kinderen and relatie_kind_leeftijd_verschil_ouder_eerste_kind with correlation 0.56\n",
      "relatie_overig_historie_vorm__kostendeler and relatie_overig_kostendeler with correlation 0.56\n",
      "relatie_kind_jongvolwassen and relatie_kind_leeftijd_verschil_ouder_eerste_kind with correlation 0.56\n",
      "afspraak_laatstejaar_resultaat_ingevuld and contacten_soort_afgelopenjaar_document__uitgaand_ with correlation 0.56\n",
      "persoonlijke_eigenschappen_houding_opm and persoonlijke_eigenschappen_motivatie_opm with correlation 0.56\n",
      "typering_aantal and typering_ind with correlation 0.56\n",
      "afspraak_resultaat_ingevuld_uniek and contacten_onderwerp_inspanningstoets with correlation 0.56\n",
      "adres_recentst_onderdeel_rdam and adres_recentste_plaats_rotterdam with correlation 0.56\n",
      "belemmering_aantal_huidig and belemmering_ind_hist with correlation 0.56\n",
      "beschikbaarheid_huidig_bekend and ontheffing_actueel_ind with correlation 0.56\n",
      "persoonlijke_eigenschappen_communicatie_opm and persoonlijke_eigenschappen_houding_opm with correlation 0.56\n",
      "afspraak_afgelopen_jaar_voortgang_aanmelding_en_deelname and contacten_soort_afgelopenjaar_document__uitgaand_ with correlation 0.55\n",
      "afspraak_laatstejaar_aantal_woorden and afspraak_signaal_voor_medewerker with correlation 0.55\n",
      "persoonlijke_eigenschappen_presentatie_opm and persoonlijke_eigenschappen_uiterlijke_verzorging_opm with correlation 0.55\n",
      "afspraak_laatstejaar_resultaat_ingevuld_uniek and contacten_soort_afgelopenjaar_document__uitgaand_ with correlation 0.55\n",
      "competentie_plannen_en_organiseren and competentie_samenwerken_en_overleggen with correlation 0.55\n",
      "contacten_soort_afgelopenjaar_document__uitgaand_ and instrument_aantal_laatstejaar with correlation 0.55\n",
      "competentie_instructies_en_procedures_opvolgen and competentie_vakdeskundigheid_toepassen with correlation 0.54\n",
      "contacten_soort_afgelopenjaar_document__inkomend_ and contacten_soort_afgelopenjaar_document__uitgaand_ with correlation 0.54\n",
      "persoonlijke_eigenschappen_communicatie_opm and persoonlijke_eigenschappen_uiterlijke_verzorging_opm with correlation 0.54\n",
      "contacten_soort_document__inkomend_ and contacten_soort_document__uitgaand_ with correlation 0.54\n",
      "ontheffing_dagen_hist_mean and ontheffing_dagen_hist_vanwege_uw_medische_omstandigheden with correlation 0.54\n",
      "persoonlijke_eigenschappen_communicatie_opm and persoonlijke_eigenschappen_motivatie_opm with correlation 0.54\n",
      "afspraak_aantal_woorden and afspraak_signaal_voor_medewerker with correlation 0.54\n",
      "contacten_soort_e_mail__inkomend_ and contacten_soort_e_mail__uitgaand_ with correlation 0.53\n",
      "competentie_overtuigen_en_beïnvloeden and competentie_samenwerken_en_overleggen with correlation 0.53\n",
      "afspraak_afgelopen_jaar_plan_van_aanpak and afspraak_laatstejaar_resultaat_ingevuld with correlation 0.53\n",
      "afspraak_afgelopen_jaar_voortgang_aanmelding_en_deelname and contacten_soort_afgelopenjaar_gesprek with correlation 0.53\n",
      "contacten_onderwerp_terugbelverzoek and contacten_soort_telefoontje__inkomend_ with correlation 0.53\n",
      "afspraak_galo_gesprek and contacten_onderwerp_boolean__werk_intake with correlation 0.53\n",
      "contacten_soort_document__uitgaand_ and contacten_soort_e_mail__uitgaand_ with correlation 0.52\n",
      "persoonlijke_eigenschappen_houding_opm and persoonlijke_eigenschappen_uiterlijke_verzorging_opm with correlation 0.52\n",
      "afspraak_afgelopen_jaar_voortgang_aanmelding_en_deelname and contacten_soort_afgelopenjaar_document__inkomend_ with correlation 0.52\n",
      "contacten_onderwerp_terugbelverzoek and contacten_soort_telefoontje__uitgaand_ with correlation 0.52\n",
      "afspraak_aantal_woorden and contacten_soort_document__uitgaand_ with correlation 0.52\n",
      "contacten_soort_document__uitgaand_ and contacten_soort_e_mail__inkomend_ with correlation 0.52\n",
      "persoonlijke_eigenschappen_nl_schrijven2 and persoonlijke_eigenschappen_nl_spreken2 with correlation 0.52\n",
      "contacten_onderwerp_traject and contacten_soort_document__uitgaand_ with correlation 0.52\n",
      "afspraak_signaal_voor_medewerker and contacten_onderwerp_terugbelverzoek with correlation 0.52\n",
      "contacten_soort_afgelopenjaar_telefoontje__uitgaand_ and contacten_soort_telefoontje__uitgaand_ with correlation 0.52\n",
      "contacten_soort_afgelopenjaar_e_mail__uitgaand_ and contacten_soort_e_mail__uitgaand_ with correlation 0.51\n",
      "contacten_soort_rapportage_rib and instrument_reden_beeindiging_historie_succesvol with correlation 0.51\n",
      "competentie_analyseren and competentie_plannen_en_organiseren with correlation 0.51\n",
      "contacten_soort_afgelopenjaar_telefoontje__inkomend_ and contacten_soort_afgelopenjaar_telefoontje__uitgaand_ with correlation 0.51\n",
      "relatie_overig_actueel_vorm__gemachtigde and relatie_overig_historie_vorm__gemachtigde with correlation 0.51\n",
      "relatie_overig_actueel_vorm__onderhoudsplichtige and relatie_overig_historie_vorm__onderhoudsplichtige with correlation 0.51\n",
      "typering_aantal and typering_dagen_som with correlation 0.51\n",
      "contacten_soort_telefoontje__inkomend_ and contacten_soort_telefoontje__uitgaand_ with correlation 0.51\n",
      "contacten_soort_afgelopenjaar_document__inkomend_ and contacten_soort_afgelopenjaar_gesprek with correlation 0.51\n",
      "afspraak_laatstejaar_resultaat_ingevuld and contacten_soort_afgelopenjaar_gesprek with correlation 0.50\n",
      "afspraak_aanmelding_afgesloten and instrument_reden_beeindiging_historie_doelstelling_bereikt__geen_uitstroom with correlation 0.50\n",
      "\n",
      "Highly Negative Correlated Pairs:\n",
      "adres_aantal_brp_adres and adres_dagen_op_adres with correlation -0.66\n",
      "adres_aantal_verschillende_wijken and adres_dagen_op_adres with correlation -0.61\n",
      "adres_recentste_plaats_rotterdam and adres_recentste_wijk_other with correlation -0.58\n",
      "persoonlijke_eigenschappen_nl_schrijven0 and persoonlijke_eigenschappen_nl_schrijven2 with correlation -0.50\n",
      "Original number of features: 316, Reduced number of features: 234\n"
     ]
    }
   ],
   "source": [
    "# TODO: Correlation does not imply causation. Two variables might be correlated due to a third variable or by coincidence.\n",
    "# TODO: The threshold of 0.5 is arbitrary and might need to be adjusted based on your specific dataset and the model you are using. For some models, even moderately correlated features might pose problems, while for others, even higher correlations might not be as concerning.\n",
    "# TODO: As a baseline model we can also use a model that has built-in mechanisms for feature selection (like L1 regularization for linear models). \n",
    "# TODO: Not checking missing values, outliers, or other data quality issues. These can also affect the model's performance and should be addressed before or during feature selection.\n",
    "\n",
    "# Assuming data is your DataFrame\n",
    "# Calculate the correlation matrix\n",
    "corr_matrix = data.corr()\n",
    "\n",
    "# Initialize lists to store the results\n",
    "highly_pos_correlated_pairs = []\n",
    "highly_neg_correlated_pairs = []\n",
    "\n",
    "# Threshold for filtering high correlations (you can adjust this value)\n",
    "threshold = 0.5\n",
    "\n",
    "# Iterate over the correlation matrix and store pairs of highly correlated features\n",
    "for i in range(len(corr_matrix.columns)):\n",
    "    for j in range(i+1, len(corr_matrix.columns)):  # i+1 to avoid self-correlation\n",
    "        if corr_matrix.iloc[i, j] > threshold:  # Positive correlation\n",
    "            highly_pos_correlated_pairs.append((corr_matrix.columns[i], corr_matrix.columns[j], corr_matrix.iloc[i, j]))\n",
    "        elif corr_matrix.iloc[i, j] < -threshold:  # Negative correlation\n",
    "            highly_neg_correlated_pairs.append((corr_matrix.columns[i], corr_matrix.columns[j], corr_matrix.iloc[i, j]))\n",
    "\n",
    "# Sort the lists based on the correlation value\n",
    "highly_pos_correlated_pairs.sort(key=lambda x: x[2], reverse=True)\n",
    "highly_neg_correlated_pairs.sort(key=lambda x: x[2])\n",
    "\n",
    "# Print out the highest positively and negatively correlated feature pairs\n",
    "print(\"Highly Positive Correlated Pairs:\")\n",
    "for pair in highly_pos_correlated_pairs:\n",
    "    print(f\"{pair[0]} and {pair[1]} with correlation {pair[2]:.2f}\")\n",
    "\n",
    "print(\"\\nHighly Negative Correlated Pairs:\")\n",
    "for pair in highly_neg_correlated_pairs:\n",
    "    print(f\"{pair[0]} and {pair[1]} with correlation {pair[2]:.2f}\")\n",
    "\n",
    "# Assuming we choose to remove the second feature from each pair\n",
    "features_to_remove = {pair[1] for pair in highly_pos_correlated_pairs + highly_neg_correlated_pairs}\n",
    "\n",
    "# Create a new DataFrame excluding the features identified for removal\n",
    "data_reduced = data.drop(columns=list(features_to_remove))\n",
    "\n",
    "print(f\"Original number of features: {data.shape[1]}, Reduced number of features: {data_reduced.shape[1]}\")\n"
   ],
   "metadata": {
    "collapsed": false,
    "ExecuteTime": {
     "end_time": "2024-03-09T07:27:57.941510Z",
     "start_time": "2024-03-09T07:27:55.777293Z"
    }
   },
   "id": "63ea9101631c012d"
  },
  {
   "cell_type": "markdown",
   "source": [
    "test_size=0.20: This parameter specifies the proportion of the dataset to include in the test split. In this case, 20% of the data will be used for testing, and the remaining 80% will be used for training the model. The choice of test size affects model evaluation - too small a test set might not provide a representative evaluation of the model, while too large a test set might leave too little data for training, potentially leading to a poorly trained model.\n",
    "\n",
    "random_state=42: This is a seed value for the random number generator. It ensures that the split between the training and testing sets is reproducible. Different seed values can result in different splits, which might lead to variations in model performance. Using a fixed random_state ensures that your results are reproducible, which is good for debugging and comparing models. However, relying solely on a single split can lead to overfitting to that specific partition of data, so it's often good practice to use cross-validation for more reliable estimates of model performance.\n",
    "\n",
    "shuffle=True: This parameter indicates whether or not to shuffle the data before splitting. Shuffling is usually beneficial because it randomizes the distribution of data points across the training and testing sets, reducing the risk of biased splits. This is especially important if the data is ordered or clustered in some way that might influence learning if not randomized.\n",
    "\n",
    "stratify=y: Stratifying means that the data is split in a way that preserves the same proportions of examples in each class as observed in the original dataset. This is crucial for imbalanced datasets, where one class significantly outnumbers the other(s). Without stratification, there's a risk that the training and testing sets might not accurately represent the class distribution, leading to skewed model evaluation and performance. Stratifying helps ensure that both training and test sets are representative of the overall dataset."
   ],
   "metadata": {
    "collapsed": false
   },
   "id": "2f73c6e69ec7edef"
  },
  {
   "cell_type": "code",
   "execution_count": 4,
   "id": "8e81b41d",
   "metadata": {
    "ExecuteTime": {
     "end_time": "2024-03-09T07:27:57.950153Z",
     "start_time": "2024-03-09T07:27:57.938227Z"
    }
   },
   "outputs": [],
   "source": [
    "# Let's specify the features and the target\n",
    "y = data_reduced['checked']\n",
    "X = data_reduced.drop(['checked'], axis=1)\n",
    "X = X.astype(np.float32)\n",
    "\n",
    "# TODO: Instead of a single train-test split, consider using cross-validation to assess model performance more robustly. This approach can help ensure the model's generalizability across different subsets of our data.\n",
    "# Let's split the dataset into train and test\n",
    "X_train, X_test, y_train, y_test = train_test_split(X, y, test_size=0.2, random_state=42, shuffle=True, stratify=y)"
   ]
  },
  {
   "cell_type": "code",
   "execution_count": 5,
   "metadata": {
    "collapsed": false,
    "ExecuteTime": {
     "end_time": "2024-03-09T07:27:59.314450Z",
     "start_time": "2024-03-09T07:27:57.953806Z"
    }
   },
   "outputs": [
    {
     "name": "stdout",
     "output_type": "stream",
     "text": [
      "                                                                                Feature  \\\n",
      "152                                                      persoon_leeftijd_bij_onderzoek   \n",
      "155                                      persoonlijke_eigenschappen_dagen_sinds_taaleis   \n",
      "205                                                           pla_historie_ontwikkeling   \n",
      "142                                                          ontheffing_dagen_hist_mean   \n",
      "154                                       persoonlijke_eigenschappen_dagen_sinds_opvoer   \n",
      "42                                          belemmering_dagen_lichamelijke_problematiek   \n",
      "41                                               belemmering_dagen_financiele_problemen   \n",
      "20                                                              afspraak_aantal_woorden   \n",
      "43                                               belemmering_dagen_psychische_problemen   \n",
      "216                                            relatie_overig_actueel_vorm__kostendeler   \n",
      "120                                               instrument_ladder_historie_activering   \n",
      "119                                  deelname_act_reintegratieladder_werk_re_integratie   \n",
      "112                                                              contacten_soort_anders   \n",
      "108                                     contacten_soort_afgelopenjaar_e_mail__inkomend_   \n",
      "107                                                contacten_soort_afgelopenjaar_anders   \n",
      "0                                                                adres_aantal_brp_adres   \n",
      "71                                               contacten_onderwerp__arbeids_motivatie   \n",
      "209                                                        pla_ondertekeningen_historie   \n",
      "117                                            deelname_act_hist_projecten_niet_gestart   \n",
      "118                         deelname_act_reintegratieladder_ondersteunende_instrumenten   \n",
      "26                                      afspraak_afgelopen_jaar_signaal_voor_medewerker   \n",
      "69                                                                    competentie_other   \n",
      "52             beschikbaarheid_aantal_historie_afwijkend_wegens_medische_omstandigheden   \n",
      "90                                                  contacten_onderwerp_boolean_no_show   \n",
      "116                                                deelname_act_actueel_projecten_uniek   \n",
      "111                                contacten_soort_afgelopenjaar_telefoontje__inkomend_   \n",
      "33                                                          afspraak_inspanningsperiode   \n",
      "19                                                       afspraak_aanmelding_afgesloten   \n",
      "115                                                 contacten_soort_rapportage_deelname   \n",
      "34                                                                       afspraak_other   \n",
      "40                                                            belemmering_aantal_huidig   \n",
      "212                                                          relatie_kind_jongvolwassen   \n",
      "186                                   pla_einde_doelstelling_bereikt__nieuw_trajectplan   \n",
      "201                                               pla_hist_pla_categorie_doelstelling_5   \n",
      "189                              pla_einde_doelstelling_niet_bereikt__nieuw_trajectplan   \n",
      "183                                           pla_actueel_pla_categorie_doelstelling_16   \n",
      "221                                      relatie_overig_historie_vorm__andere_inwonende   \n",
      "39                                                           afspraak_voortgangsgesprek   \n",
      "35                                             afspraak_participatietrede_vervolgmeting   \n",
      "28                                                               afspraak_afsprakenplan   \n",
      "193  pla_einde_uitstroom_anders_dan_volgen_onderwijs__regulier_werk_of_als_zelfstandige   \n",
      "179                                          persoonlijke_eigenschappen_taaleis_voldaan   \n",
      "31                                         afspraak_deelname_compleet_uit_webapplicatie   \n",
      "134                                         instrument_reden_beeindiging_historie_other   \n",
      "129     instrument_reden_beeindiging_historie_doelstelling_niet_bereikt__geen_uitstroom   \n",
      "199                                               pla_hist_pla_categorie_doelstelling_3   \n",
      "29                                             afspraak_controle_aankondiging_maatregel   \n",
      "25                                              afspraak_afgelopen_jaar_plan_van_aanpak   \n",
      "225                                                                     typering_aantal   \n",
      "123                                         instrument_ladder_huidig_werk_re_integratie   \n",
      "\n",
      "     Importance  \n",
      "152      0.0527  \n",
      "155      0.0274  \n",
      "205      0.0272  \n",
      "142      0.0258  \n",
      "154      0.0237  \n",
      "42       0.0204  \n",
      "41       0.0192  \n",
      "20       0.0191  \n",
      "43       0.0180  \n",
      "216      0.0172  \n",
      "120      0.0163  \n",
      "119      0.0155  \n",
      "112      0.0146  \n",
      "108      0.0107  \n",
      "107      0.0106  \n",
      "0        0.0104  \n",
      "71       0.0103  \n",
      "209      0.0099  \n",
      "117      0.0097  \n",
      "118      0.0095  \n",
      "26       0.0090  \n",
      "69       0.0089  \n",
      "52       0.0088  \n",
      "90       0.0086  \n",
      "116      0.0083  \n",
      "111      0.0075  \n",
      "33       0.0074  \n",
      "19       0.0073  \n",
      "115      0.0073  \n",
      "34       0.0072  \n",
      "40       0.0070  \n",
      "212      0.0070  \n",
      "186      0.0067  \n",
      "201      0.0065  \n",
      "189      0.0065  \n",
      "183      0.0064  \n",
      "221      0.0063  \n",
      "39       0.0061  \n",
      "35       0.0060  \n",
      "28       0.0059  \n",
      "193      0.0059  \n",
      "179      0.0059  \n",
      "31       0.0057  \n",
      "134      0.0057  \n",
      "129      0.0056  \n",
      "199      0.0055  \n",
      "29       0.0055  \n",
      "25       0.0055  \n",
      "225      0.0054  \n",
      "123      0.0052  \n"
     ]
    }
   ],
   "source": [
    "# TODO: Further explore feature engineering possibilities. Creating new features based on domain knowledge can provide the model with additional insights, potentially improving performance\n",
    "\n",
    "# Initializing and training the RandomForestClassifier\n",
    "clf = RandomForestClassifier(n_estimators=100, random_state=42)\n",
    "clf.fit(X_train, y_train)\n",
    "\n",
    "# Getting feature importances\n",
    "feature_importances = clf.feature_importances_\n",
    "\n",
    "# Converting feature importances into a more readable format\n",
    "features = pd.DataFrame({\n",
    "    'Feature': X.columns,\n",
    "    'Importance': feature_importances\n",
    "})\n",
    "\n",
    "# Sorting features by importance\n",
    "features_sorted = features.sort_values(by='Importance', ascending=False)\n",
    "\n",
    "# Now, print the top 100 features with their importance\n",
    "print(features_sorted.head(50))"
   ],
   "id": "e328aa62037109b1"
  },
  {
   "cell_type": "code",
   "execution_count": 6,
   "outputs": [],
   "source": [
    "# List of features to keep:\n",
    "features_to_select = [\n",
    "    \"pla_historie_ontwikkeling\",\n",
    "    \"ontheffing_dagen_hist_mean\",\n",
    "    \"belemmering_dagen_financiele_problemen\",\n",
    "    \"afspraak_aantal_woorden\",\n",
    "    \"deelname_act_reintegratieladder_werk_re_integratie\",\n",
    "    \"adres_aantal_brp_adres\",\n",
    "    \"contacten_onderwerp__arbeids_motivatie\"\n",
    "]\n",
    "\n",
    "# Manually select the features from your dataframe\n",
    "X_selected = data_reduced[features_to_select]"
   ],
   "metadata": {
    "collapsed": false,
    "ExecuteTime": {
     "end_time": "2024-03-09T07:27:59.314583Z",
     "start_time": "2024-03-09T07:27:59.311013Z"
    }
   },
   "id": "61da8605d0592491"
  },
  {
   "cell_type": "markdown",
   "source": [
    "# Feature scaling and model training"
   ],
   "metadata": {
    "collapsed": false
   },
   "id": "9e8911074abf9ebe"
  },
  {
   "cell_type": "code",
   "execution_count": 7,
   "id": "eaf5a3c6",
   "metadata": {
    "ExecuteTime": {
     "end_time": "2024-03-09T07:27:59.319103Z",
     "start_time": "2024-03-09T07:27:59.313787Z"
    }
   },
   "outputs": [],
   "source": [
    "# Define a gradient boosting classifier\n",
    "classifier = GradientBoostingClassifier(n_estimators=100, learning_rate=1.0, max_depth=1, random_state=0)"
   ]
  },
  {
   "cell_type": "code",
   "execution_count": 8,
   "metadata": {
    "collapsed": false,
    "ExecuteTime": {
     "end_time": "2024-03-09T07:27:59.319248Z",
     "start_time": "2024-03-09T07:27:59.316029Z"
    }
   },
   "outputs": [],
   "source": [
    "# Create a pipeline object with our selector and classifier\n",
    "# NOTE: You can create custom pipeline objects but they must be registered to onnx or it will not recognise them\n",
    "# Because of this we recommend using the onnx known objects as defined in the documentation\n",
    "# TODO: The pipeline construction and inclusion of feature scaling via StandardScaler is a good practice, ensuring that your model is not biased by the scale of the features.\n",
    "pipeline_steps = [\n",
    "    ('scaling', StandardScaler()),\n",
    "    ('classification', RandomForestClassifier())\n",
    "]\n",
    "\n",
    "pipeline = Pipeline(steps=pipeline_steps)\n",
    "\n",
    "# Let's train a simple model\n",
    "pipeline.fit(X_train, y_train)"
   ],
   "id": "d8ae8fe8386fc9aa"
  },
  {
   "cell_type": "code",
   "execution_count": 9,
   "metadata": {
    "collapsed": false,
    "ExecuteTime": {
     "end_time": "2024-03-09T07:28:00.716499Z",
     "start_time": "2024-03-09T07:27:59.319511Z"
    }
   },
   "outputs": [
    {
     "name": "stdout",
     "output_type": "stream",
     "text": [
      "Accuracy of the original model:  0.9023329379201266\n"
     ]
    }
   ],
   "source": [
    "# TODO: Our evaluation focuses on accuracy, which is a good starting point. However, for fraud detection, other metrics like Precision, Recall, F1 Score, or even a custom cost function might be more appropriate due to the typically imbalanced nature of fraud data. This helps ensure you're not only capturing the fraud cases accurately but also minimizing false positives which can be costly or disruptive.\n",
    "# Let's evaluate the model\n",
    "y_pred = pipeline.predict(X_test)\n",
    "original_accuracy = accuracy_score(y_test, y_pred)\n",
    "print('Accuracy of the original model: ', original_accuracy)"
   ],
   "id": "aeab6096d853145e"
  },
  {
   "cell_type": "code",
   "execution_count": 10,
   "metadata": {
    "ExecuteTime": {
     "end_time": "2024-03-09T07:28:02.084530Z",
     "start_time": "2024-03-09T07:28:00.717511Z"
    }
   },
   "outputs": [
    {
     "name": "stdout",
     "output_type": "stream",
     "text": [
      "Accuracy of the ONNX model:  0.9019375247133254\n"
     ]
    }
   ],
   "source": [
    "# Let's convert the model to ONNX\n",
    "onnx_model = convert_sklearn(\n",
    "    pipeline, initial_types=[('X', FloatTensorType((None, X.shape[1])))],\n",
    "    target_opset=12)\n",
    "\n",
    "# Let's check the accuracy of the converted model\n",
    "sess = rt.InferenceSession(onnx_model.SerializeToString())\n",
    "y_pred_onnx =  sess.run(None, {'X': X_test.values.astype(np.float32)})\n",
    "\n",
    "accuracy_onnx_model = accuracy_score(y_test, y_pred_onnx[0])\n",
    "print('Accuracy of the ONNX model: ', accuracy_onnx_model)"
   ],
   "id": "be836516cb7dd1f2"
  },
  {
   "cell_type": "code",
   "execution_count": 11,
   "id": "3f68f63d",
   "metadata": {
    "ExecuteTime": {
     "end_time": "2024-03-09T07:28:02.156089Z",
     "start_time": "2024-03-09T07:28:02.081595Z"
    }
   },
   "outputs": [
    {
     "name": "stdout",
     "output_type": "stream",
     "text": [
      "Accuracy of the ONNX model:  0.9019375247133254\n"
     ]
    }
   ],
   "source": [
    "# Let's save the model\n",
    "onnx.save(onnx_model, \"model/good_model.onnx\")\n",
    "\n",
    "# Let's load the model\n",
    "new_session = rt.InferenceSession(\"model/good_model.onnx\")\n",
    "\n",
    "# Let's predict the target\n",
    "y_pred_onnx2 =  new_session.run(None, {'X': X_test.values.astype(np.float32)})\n",
    "\n",
    "accuracy_onnx_model = accuracy_score(y_test, y_pred_onnx2[0])\n",
    "print('Accuracy of the ONNX model: ', accuracy_onnx_model)\n"
   ]
  },
  {
   "cell_type": "code",
   "execution_count": 11,
   "outputs": [],
   "source": [],
   "metadata": {
    "collapsed": false,
    "ExecuteTime": {
     "end_time": "2024-03-09T07:28:02.156262Z",
     "start_time": "2024-03-09T07:28:02.152764Z"
    }
   },
   "id": "6429d69ef0396d17"
  }
 ],
 "metadata": {
  "kernelspec": {
   "display_name": "Python 3",
   "language": "python",
   "name": "python3"
  },
  "language_info": {
   "codemirror_mode": {
    "name": "ipython",
    "version": 3
   },
   "file_extension": ".py",
   "mimetype": "text/x-python",
   "name": "python",
   "nbconvert_exporter": "python",
   "pygments_lexer": "ipython3",
   "version": "3.11.8"
  }
 },
 "nbformat": 4,
 "nbformat_minor": 5
}
