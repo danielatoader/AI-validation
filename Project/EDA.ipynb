{
 "cells": [
  {
   "cell_type": "code",
   "execution_count": 8,
   "id": "initial_id",
   "metadata": {
    "collapsed": true,
    "ExecuteTime": {
     "end_time": "2024-03-08T15:11:41.423291Z",
     "start_time": "2024-03-08T15:11:41.164098Z"
    }
   },
   "outputs": [
    {
     "name": "stdout",
     "output_type": "stream",
     "text": [
      "First few rows of the dataset:\n",
      "   adres_aantal_brp_adres  adres_aantal_verschillende_wijken  \\\n",
      "0                       6                                  3   \n",
      "1                       4                                  2   \n",
      "2                       4                                  2   \n",
      "3                       3                                  2   \n",
      "4                       3                                  3   \n",
      "\n",
      "   adres_aantal_verzendadres  adres_aantal_woonadres_handmatig  \\\n",
      "0                          1                                 0   \n",
      "1                          1                                 0   \n",
      "2                          0                                 1   \n",
      "3                          0                                 1   \n",
      "4                          0                                 2   \n",
      "\n",
      "   adres_dagen_op_adres  adres_recentst_onderdeel_rdam  \\\n",
      "0                  1012                              1   \n",
      "1                  5268                              1   \n",
      "2                  1820                              1   \n",
      "3                  9056                              1   \n",
      "4                  5246                              1   \n",
      "\n",
      "   adres_recentste_buurt_groot_ijsselmonde  \\\n",
      "0                                        0   \n",
      "1                                        0   \n",
      "2                                        0   \n",
      "3                                        0   \n",
      "4                                        0   \n",
      "\n",
      "   adres_recentste_buurt_nieuwe_westen  adres_recentste_buurt_other  \\\n",
      "0                                    0                            1   \n",
      "1                                    0                            0   \n",
      "2                                    0                            1   \n",
      "3                                    0                            0   \n",
      "4                                    0                            1   \n",
      "\n",
      "   adres_recentste_buurt_oude_noorden  ...  typering_hist_aantal  \\\n",
      "0                                   0  ...                     2   \n",
      "1                                   0  ...                     2   \n",
      "2                                   0  ...                     1   \n",
      "3                                   0  ...                     2   \n",
      "4                                   0  ...                     1   \n",
      "\n",
      "   typering_hist_inburgeringsbehoeftig  typering_hist_ind  \\\n",
      "0                                    0                  1   \n",
      "1                                    0                  1   \n",
      "2                                    0                  1   \n",
      "3                                    0                  1   \n",
      "4                                    0                  1   \n",
      "\n",
      "   typering_hist_sector_zorg  typering_ind  \\\n",
      "0                          0             0   \n",
      "1                          0             1   \n",
      "2                          0             0   \n",
      "3                          0             1   \n",
      "4                          0             1   \n",
      "\n",
      "   typering_indicatie_geheime_gegevens  typering_other  \\\n",
      "0                                    0               0   \n",
      "1                                    0               1   \n",
      "2                                    0               0   \n",
      "3                                    0               0   \n",
      "4                                    0               0   \n",
      "\n",
      "   typering_transport__logistiek___tuinbouw  \\\n",
      "0                                         0   \n",
      "1                                         0   \n",
      "2                                         0   \n",
      "3                                         0   \n",
      "4                                         0   \n",
      "\n",
      "   typering_zorg__schoonmaak___welzijn  checked  \n",
      "0                                    0        0  \n",
      "1                                    0        1  \n",
      "2                                    0        1  \n",
      "3                                    0        0  \n",
      "4                                    0        0  \n",
      "\n",
      "[5 rows x 316 columns]\n",
      "\n",
      "Dataset Info:\n",
      "<class 'pandas.core.frame.DataFrame'>\n",
      "RangeIndex: 12645 entries, 0 to 12644\n",
      "Columns: 316 entries, adres_aantal_brp_adres to checked\n",
      "dtypes: int64(316)\n",
      "memory usage: 30.5 MB\n",
      "\n",
      "Descriptive Statistics:\n",
      "       adres_aantal_brp_adres  adres_aantal_verschillende_wijken  \\\n",
      "count            12645.000000                       12645.000000   \n",
      "mean                 2.878529                           2.101621   \n",
      "std                  1.457492                           0.934861   \n",
      "min                  1.000000                           1.000000   \n",
      "25%                  2.000000                           1.000000   \n",
      "50%                  3.000000                           2.000000   \n",
      "75%                  4.000000                           3.000000   \n",
      "max                 11.000000                           7.000000   \n",
      "\n",
      "       adres_aantal_verzendadres  adres_aantal_woonadres_handmatig  \\\n",
      "count               12645.000000                      12645.000000   \n",
      "mean                    0.433294                          0.494346   \n",
      "std                     0.523188                          0.557572   \n",
      "min                     0.000000                          0.000000   \n",
      "25%                     0.000000                          0.000000   \n",
      "50%                     0.000000                          0.000000   \n",
      "75%                     1.000000                          1.000000   \n",
      "max                     3.000000                          3.000000   \n",
      "\n",
      "       adres_dagen_op_adres  adres_recentst_onderdeel_rdam  \\\n",
      "count          12645.000000                   12645.000000   \n",
      "mean            9904.945828                       0.950415   \n",
      "std             6336.626793                       0.217094   \n",
      "min                3.000000                       0.000000   \n",
      "25%             4554.000000                       1.000000   \n",
      "50%             9148.000000                       1.000000   \n",
      "75%            14670.000000                       1.000000   \n",
      "max            24326.000000                       1.000000   \n",
      "\n",
      "       adres_recentste_buurt_groot_ijsselmonde  \\\n",
      "count                             12645.000000   \n",
      "mean                                  0.003638   \n",
      "std                                   0.060207   \n",
      "min                                   0.000000   \n",
      "25%                                   0.000000   \n",
      "50%                                   0.000000   \n",
      "75%                                   0.000000   \n",
      "max                                   1.000000   \n",
      "\n",
      "       adres_recentste_buurt_nieuwe_westen  adres_recentste_buurt_other  \\\n",
      "count                         12645.000000                 12645.000000   \n",
      "mean                              0.002293                     0.499644   \n",
      "std                               0.047836                     0.500020   \n",
      "min                               0.000000                     0.000000   \n",
      "25%                               0.000000                     0.000000   \n",
      "50%                               0.000000                     0.000000   \n",
      "75%                               0.000000                     1.000000   \n",
      "max                               1.000000                     1.000000   \n",
      "\n",
      "       adres_recentste_buurt_oude_noorden  ...  typering_hist_aantal  \\\n",
      "count                        12645.000000  ...          12645.000000   \n",
      "mean                             0.000870  ...              1.673468   \n",
      "std                              0.029483  ...              0.766300   \n",
      "min                              0.000000  ...              1.000000   \n",
      "25%                              0.000000  ...              1.000000   \n",
      "50%                              0.000000  ...              2.000000   \n",
      "75%                              0.000000  ...              2.000000   \n",
      "max                              1.000000  ...              5.000000   \n",
      "\n",
      "       typering_hist_inburgeringsbehoeftig  typering_hist_ind  \\\n",
      "count                         12645.000000            12645.0   \n",
      "mean                              0.006801                1.0   \n",
      "std                               0.082191                0.0   \n",
      "min                               0.000000                1.0   \n",
      "25%                               0.000000                1.0   \n",
      "50%                               0.000000                1.0   \n",
      "75%                               0.000000                1.0   \n",
      "max                               1.000000                1.0   \n",
      "\n",
      "       typering_hist_sector_zorg  typering_ind  \\\n",
      "count               12645.000000  12645.000000   \n",
      "mean                    0.010360      0.681297   \n",
      "std                     0.101259      0.465992   \n",
      "min                     0.000000      0.000000   \n",
      "25%                     0.000000      0.000000   \n",
      "50%                     0.000000      1.000000   \n",
      "75%                     0.000000      1.000000   \n",
      "max                     1.000000      1.000000   \n",
      "\n",
      "       typering_indicatie_geheime_gegevens  typering_other  \\\n",
      "count                         12645.000000    12645.000000   \n",
      "mean                              0.065164        0.422301   \n",
      "std                               0.246825        0.508774   \n",
      "min                               0.000000        0.000000   \n",
      "25%                               0.000000        0.000000   \n",
      "50%                               0.000000        0.000000   \n",
      "75%                               0.000000        1.000000   \n",
      "max                               1.000000        2.000000   \n",
      "\n",
      "       typering_transport__logistiek___tuinbouw  \\\n",
      "count                              12645.000000   \n",
      "mean                                   0.016291   \n",
      "std                                    0.126597   \n",
      "min                                    0.000000   \n",
      "25%                                    0.000000   \n",
      "50%                                    0.000000   \n",
      "75%                                    0.000000   \n",
      "max                                    1.000000   \n",
      "\n",
      "       typering_zorg__schoonmaak___welzijn       checked  \n",
      "count                         12645.000000  12645.000000  \n",
      "mean                              0.006801      0.100040  \n",
      "std                               0.082191      0.300065  \n",
      "min                               0.000000      0.000000  \n",
      "25%                               0.000000      0.000000  \n",
      "50%                               0.000000      0.000000  \n",
      "75%                               0.000000      0.000000  \n",
      "max                               1.000000      1.000000  \n",
      "\n",
      "[8 rows x 316 columns]\n",
      "\n",
      "Missing values in the dataset:\n",
      "adres_aantal_brp_adres                      0\n",
      "adres_aantal_verschillende_wijken           0\n",
      "adres_aantal_verzendadres                   0\n",
      "adres_aantal_woonadres_handmatig            0\n",
      "adres_dagen_op_adres                        0\n",
      "                                           ..\n",
      "typering_indicatie_geheime_gegevens         0\n",
      "typering_other                              0\n",
      "typering_transport__logistiek___tuinbouw    0\n",
      "typering_zorg__schoonmaak___welzijn         0\n",
      "checked                                     0\n",
      "Length: 316, dtype: int64\n",
      "\n",
      "Persoon_leeftijd_bij_onderzoek:\n",
      "persoon_leeftijd_bij_onderzoek\n",
      "51    493\n",
      "52    491\n",
      "53    474\n",
      "48    473\n",
      "55    466\n",
      "50    460\n",
      "54    438\n",
      "49    434\n",
      "58    428\n",
      "57    427\n",
      "47    411\n",
      "46    406\n",
      "56    404\n",
      "45    401\n",
      "44    389\n",
      "59    372\n",
      "61    365\n",
      "60    365\n",
      "43    361\n",
      "42    353\n",
      "62    339\n",
      "63    315\n",
      "40    305\n",
      "41    296\n",
      "39    273\n",
      "64    265\n",
      "65    258\n",
      "38    228\n",
      "37    217\n",
      "36    212\n",
      "66    192\n",
      "35    185\n",
      "34    149\n",
      "33    128\n",
      "32    115\n",
      "31    111\n",
      "30     93\n",
      "29     91\n",
      "28     86\n",
      "67     80\n",
      "27     63\n",
      "26     50\n",
      "25     44\n",
      "24     43\n",
      "23     32\n",
      "22     24\n",
      "21     18\n",
      "19     11\n",
      "20     11\n",
      "Name: count, dtype: int64\n"
     ]
    }
   ],
   "source": [
    "import pandas as pd\n",
    "import matplotlib.pyplot as plt\n",
    "import seaborn as sns\n",
    "import numpy as np\n",
    "\n",
    "# Load the dataset\n",
    "file_path = 'synth_data_for_training.csv'  # Replace this with the path to your CSV file\n",
    "df = pd.read_csv(file_path)\n",
    "\n",
    "# Display the first few rows of the dataframe\n",
    "print(\"First few rows of the dataset:\")\n",
    "print(df.head())\n",
    "\n",
    "# Display a concise summary of the dataframe\n",
    "print(\"\\nDataset Info:\")\n",
    "df.info()\n",
    "\n",
    "# Generate descriptive statistics\n",
    "print(\"\\nDescriptive Statistics:\")\n",
    "print(df.describe())\n",
    "\n",
    "# Check for missing values\n",
    "print(\"\\nMissing values in the dataset:\")\n",
    "print(df.isnull().sum())\n",
    "\n",
    "\n",
    "\n"
   ]
  },
  {
   "cell_type": "markdown",
   "source": [
    "persoon_leeftijd_bij_onderzoek\n",
    "relatie_overig_actueel_vorm__kostendeler\n",
    "contacten_onderwerp_no_show\n",
    "competentie_vakdeskundigheid_toepassen\n",
    "contacten_onderwerp_overleg_met_inkomen\n",
    "adres_dagen_op_adres\n",
    "relatie_overig_kostendeler\n",
    "pla_historie_ontwikkeling\n",
    "instrument_ladder_huidig_activering\n",
    "contacten_soort_afgelopenjaar_document_uitgaand"
   ],
   "metadata": {
    "collapsed": false
   },
   "id": "cb039f7ad5460b94"
  },
  {
   "cell_type": "code",
   "execution_count": 11,
   "outputs": [
    {
     "name": "stdout",
     "output_type": "stream",
     "text": [
      "count    12645.000000\n",
      "mean        49.293159\n",
      "std          9.990205\n",
      "min         19.000000\n",
      "25%         43.000000\n",
      "50%         50.000000\n",
      "75%         57.000000\n",
      "max         67.000000\n",
      "Name: persoon_leeftijd_bij_onderzoek, dtype: float64\n"
     ]
    }
   ],
   "source": [
    "# print persoon_leeftijd_bij_onderzoek\n",
    "print(df['persoon_leeftijd_bij_onderzoek'].describe())\n",
    "\n"
   ],
   "metadata": {
    "collapsed": false,
    "ExecuteTime": {
     "end_time": "2024-03-08T15:12:57.866174Z",
     "start_time": "2024-03-08T15:12:57.861323Z"
    }
   },
   "id": "c68915d3a101a6d1"
  },
  {
   "cell_type": "code",
   "execution_count": 13,
   "outputs": [
    {
     "name": "stdout",
     "output_type": "stream",
     "text": [
      "count    12645.000000\n",
      "mean         0.837643\n",
      "std          0.740525\n",
      "min          0.000000\n",
      "25%          0.000000\n",
      "50%          1.000000\n",
      "75%          1.000000\n",
      "max          4.000000\n",
      "Name: relatie_overig_actueel_vorm__kostendeler, dtype: float64\n"
     ]
    }
   ],
   "source": [
    "# print relatie_overig_actueel_vorm__kostendeler\n",
    "print(df['relatie_overig_actueel_vorm__kostendeler'].describe())"
   ],
   "metadata": {
    "collapsed": false,
    "ExecuteTime": {
     "end_time": "2024-03-08T15:20:20.208093Z",
     "start_time": "2024-03-08T15:20:20.200193Z"
    }
   },
   "id": "23c7ecb938406719"
  },
  {
   "cell_type": "code",
   "execution_count": 14,
   "outputs": [
    {
     "name": "stdout",
     "output_type": "stream",
     "text": [
      "count    12645.000000\n",
      "mean         1.103836\n",
      "std          0.900660\n",
      "min          0.000000\n",
      "25%          0.000000\n",
      "50%          1.000000\n",
      "75%          2.000000\n",
      "max          6.000000\n",
      "Name: contacten_onderwerp_no_show, dtype: float64\n"
     ]
    }
   ],
   "source": [
    "print(df['contacten_onderwerp_no_show'].describe())"
   ],
   "metadata": {
    "collapsed": false,
    "ExecuteTime": {
     "end_time": "2024-03-08T15:20:26.321256Z",
     "start_time": "2024-03-08T15:20:26.308240Z"
    }
   },
   "id": "63f8387817ac962b"
  },
  {
   "cell_type": "code",
   "execution_count": 15,
   "outputs": [
    {
     "name": "stdout",
     "output_type": "stream",
     "text": [
      "count    12645.000000\n",
      "mean         0.474180\n",
      "std          0.539694\n",
      "min          0.000000\n",
      "25%          0.000000\n",
      "50%          0.000000\n",
      "75%          1.000000\n",
      "max          3.000000\n",
      "Name: competentie_vakdeskundigheid_toepassen, dtype: float64\n"
     ]
    }
   ],
   "source": [
    "print(df['competentie_vakdeskundigheid_toepassen'].describe())"
   ],
   "metadata": {
    "collapsed": false,
    "ExecuteTime": {
     "end_time": "2024-03-08T15:20:42.279698Z",
     "start_time": "2024-03-08T15:20:42.272128Z"
    }
   },
   "id": "5fd74c6575ae63ae"
  },
  {
   "cell_type": "code",
   "execution_count": 16,
   "outputs": [
    {
     "name": "stdout",
     "output_type": "stream",
     "text": [
      "count    12645.000000\n",
      "mean         1.031870\n",
      "std          0.853105\n",
      "min          0.000000\n",
      "25%          0.000000\n",
      "50%          1.000000\n",
      "75%          2.000000\n",
      "max          6.000000\n",
      "Name: contacten_onderwerp_overleg_met_inkomen, dtype: float64\n"
     ]
    }
   ],
   "source": [
    "print(df['contacten_onderwerp_overleg_met_inkomen'].describe())"
   ],
   "metadata": {
    "collapsed": false,
    "ExecuteTime": {
     "end_time": "2024-03-08T15:20:45.118737Z",
     "start_time": "2024-03-08T15:20:45.103217Z"
    }
   },
   "id": "8b30d3f702c6ec86"
  },
  {
   "cell_type": "code",
   "execution_count": 17,
   "outputs": [
    {
     "name": "stdout",
     "output_type": "stream",
     "text": [
      "count    12645.000000\n",
      "mean      9904.945828\n",
      "std       6336.626793\n",
      "min          3.000000\n",
      "25%       4554.000000\n",
      "50%       9148.000000\n",
      "75%      14670.000000\n",
      "max      24326.000000\n",
      "Name: adres_dagen_op_adres, dtype: float64\n"
     ]
    }
   ],
   "source": [
    "print(df['adres_dagen_op_adres'].describe())"
   ],
   "metadata": {
    "collapsed": false,
    "ExecuteTime": {
     "end_time": "2024-03-08T15:20:46.882367Z",
     "start_time": "2024-03-08T15:20:46.869078Z"
    }
   },
   "id": "7eada2b991c448d5"
  },
  {
   "cell_type": "code",
   "execution_count": 18,
   "outputs": [
    {
     "name": "stdout",
     "output_type": "stream",
     "text": [
      "count    12645.000000\n",
      "mean         0.249110\n",
      "std          0.432515\n",
      "min          0.000000\n",
      "25%          0.000000\n",
      "50%          0.000000\n",
      "75%          0.000000\n",
      "max          1.000000\n",
      "Name: relatie_overig_kostendeler, dtype: float64\n"
     ]
    }
   ],
   "source": [
    "print(df['relatie_overig_kostendeler'].describe())"
   ],
   "metadata": {
    "collapsed": false,
    "ExecuteTime": {
     "end_time": "2024-03-08T15:20:48.389587Z",
     "start_time": "2024-03-08T15:20:48.381259Z"
    }
   },
   "id": "25ba38ed04fc0ac"
  },
  {
   "cell_type": "code",
   "execution_count": 19,
   "outputs": [
    {
     "name": "stdout",
     "output_type": "stream",
     "text": [
      "count    12645.000000\n",
      "mean         0.613839\n",
      "std          0.486887\n",
      "min          0.000000\n",
      "25%          0.000000\n",
      "50%          1.000000\n",
      "75%          1.000000\n",
      "max          1.000000\n",
      "Name: pla_historie_ontwikkeling, dtype: float64\n"
     ]
    }
   ],
   "source": [
    "print(df['pla_historie_ontwikkeling'].describe())"
   ],
   "metadata": {
    "collapsed": false,
    "ExecuteTime": {
     "end_time": "2024-03-08T15:20:54.092188Z",
     "start_time": "2024-03-08T15:20:54.087746Z"
    }
   },
   "id": "5f3c160dede0f046"
  },
  {
   "cell_type": "code",
   "execution_count": 22,
   "outputs": [
    {
     "name": "stdout",
     "output_type": "stream",
     "text": [
      "count    12645.000000\n",
      "mean         0.587426\n",
      "std          0.601367\n",
      "min          0.000000\n",
      "25%          0.000000\n",
      "50%          1.000000\n",
      "75%          1.000000\n",
      "max          3.000000\n",
      "Name: instrument_ladder_huidig_activering, dtype: float64\n"
     ]
    }
   ],
   "source": [
    "print(df['instrument_ladder_huidig_activering'].describe())"
   ],
   "metadata": {
    "collapsed": false,
    "ExecuteTime": {
     "end_time": "2024-03-08T15:21:42.613026Z",
     "start_time": "2024-03-08T15:21:42.605606Z"
    }
   },
   "id": "757fe9f9da01fc77"
  },
  {
   "cell_type": "code",
   "execution_count": 27,
   "outputs": [
    {
     "name": "stdout",
     "output_type": "stream",
     "text": [
      "count    12645.000000\n",
      "mean         3.677026\n",
      "std          2.910140\n",
      "min          0.000000\n",
      "25%          1.000000\n",
      "50%          3.000000\n",
      "75%          5.000000\n",
      "max         26.000000\n",
      "Name: contacten_soort_afgelopenjaar_document__uitgaand_, dtype: float64\n"
     ]
    }
   ],
   "source": [
    "print(df['contacten_soort_afgelopenjaar_document__uitgaand_'].describe())"
   ],
   "metadata": {
    "collapsed": false,
    "ExecuteTime": {
     "end_time": "2024-03-08T15:22:32.769967Z",
     "start_time": "2024-03-08T15:22:32.764433Z"
    }
   },
   "id": "22904899ca07b021"
  },
  {
   "cell_type": "code",
   "execution_count": null,
   "outputs": [],
   "source": [],
   "metadata": {
    "collapsed": false
   },
   "id": "2d43bd878d8edd93"
  }
 ],
 "metadata": {
  "kernelspec": {
   "display_name": "Python 3",
   "language": "python",
   "name": "python3"
  },
  "language_info": {
   "codemirror_mode": {
    "name": "ipython",
    "version": 2
   },
   "file_extension": ".py",
   "mimetype": "text/x-python",
   "name": "python",
   "nbconvert_exporter": "python",
   "pygments_lexer": "ipython2",
   "version": "2.7.6"
  }
 },
 "nbformat": 4,
 "nbformat_minor": 5
}
