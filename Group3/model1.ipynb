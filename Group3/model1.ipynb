{
 "cells": [
  {
   "cell_type": "code",
   "execution_count": 1,
   "id": "initial_id",
   "metadata": {
    "collapsed": true,
    "ExecuteTime": {
     "end_time": "2024-04-05T14:11:41.297238Z",
     "start_time": "2024-04-05T14:11:40.908968Z"
    }
   },
   "outputs": [],
   "source": [
    "import pandas as pd\n",
    "import numpy as np\n",
    "import random\n",
    "from collections import defaultdict\n",
    "from sklearn.model_selection import train_test_split\n",
    "import onnxruntime as rt\n",
    "import onnx\n",
    "from skl2onnx.common.data_types import FloatTensorType\n",
    "from skl2onnx import to_onnx\n",
    "from sklearn.feature_selection import VarianceThreshold\n",
    "from sklearn.ensemble import GradientBoostingClassifier\n",
    "from sklearn.metrics import accuracy_score\n",
    "from sklearn.pipeline import Pipeline\n",
    "from skl2onnx import convert_sklearn\n",
    "from imblearn.over_sampling import SMOTE, ADASYN"
   ]
  },
  {
   "cell_type": "code",
   "execution_count": 2,
   "id": "ff5ebca8",
   "metadata": {
    "ExecuteTime": {
     "end_time": "2024-04-05T14:11:41.300978Z",
     "start_time": "2024-04-05T14:11:41.298577Z"
    }
   },
   "outputs": [],
   "source": [
    "from sklearn.metrics import classification_report, confusion_matrix, roc_curve, roc_auc_score\n",
    "from sklearn.utils import resample"
   ]
  },
  {
   "cell_type": "code",
   "execution_count": 3,
   "id": "aad8f912d382c1c",
   "metadata": {
    "collapsed": false,
    "ExecuteTime": {
     "end_time": "2024-04-05T14:11:41.870840Z",
     "start_time": "2024-04-05T14:11:41.302565Z"
    }
   },
   "outputs": [
    {
     "ename": "FileNotFoundError",
     "evalue": "[Errno 2] No such file or directory: 'data/feature_importance.csv'",
     "output_type": "error",
     "traceback": [
      "\u001B[0;31m---------------------------------------------------------------------------\u001B[0m",
      "\u001B[0;31mFileNotFoundError\u001B[0m                         Traceback (most recent call last)",
      "Cell \u001B[0;32mIn[3], line 3\u001B[0m\n\u001B[1;32m      1\u001B[0m \u001B[38;5;66;03m# Let's load the dataset\u001B[39;00m\n\u001B[1;32m      2\u001B[0m data \u001B[38;5;241m=\u001B[39m pd\u001B[38;5;241m.\u001B[39mread_csv(\u001B[38;5;124m'\u001B[39m\u001B[38;5;124mdata/synth_data_for_training.csv\u001B[39m\u001B[38;5;124m'\u001B[39m)\n\u001B[0;32m----> 3\u001B[0m selected_features \u001B[38;5;241m=\u001B[39m pd\u001B[38;5;241m.\u001B[39mread_csv(\u001B[38;5;124m'\u001B[39m\u001B[38;5;124mdata/feature_importance.csv\u001B[39m\u001B[38;5;124m'\u001B[39m, sep\u001B[38;5;241m=\u001B[39m\u001B[38;5;124m'\u001B[39m\u001B[38;5;124m.\u001B[39m\u001B[38;5;124m'\u001B[39m)\u001B[38;5;241m.\u001B[39mhead(\u001B[38;5;241m20\u001B[39m)[\u001B[38;5;124m'\u001B[39m\u001B[38;5;124mfeature\u001B[39m\u001B[38;5;124m'\u001B[39m]\n\u001B[1;32m      4\u001B[0m random\u001B[38;5;241m.\u001B[39mseed(\u001B[38;5;241m42\u001B[39m)\n\u001B[1;32m      6\u001B[0m \u001B[38;5;66;03m# randomize the data\u001B[39;00m\n",
      "File \u001B[0;32m~/anaconda3/envs/lab_2/lib/python3.11/site-packages/pandas/io/parsers/readers.py:948\u001B[0m, in \u001B[0;36mread_csv\u001B[0;34m(filepath_or_buffer, sep, delimiter, header, names, index_col, usecols, dtype, engine, converters, true_values, false_values, skipinitialspace, skiprows, skipfooter, nrows, na_values, keep_default_na, na_filter, verbose, skip_blank_lines, parse_dates, infer_datetime_format, keep_date_col, date_parser, date_format, dayfirst, cache_dates, iterator, chunksize, compression, thousands, decimal, lineterminator, quotechar, quoting, doublequote, escapechar, comment, encoding, encoding_errors, dialect, on_bad_lines, delim_whitespace, low_memory, memory_map, float_precision, storage_options, dtype_backend)\u001B[0m\n\u001B[1;32m    935\u001B[0m kwds_defaults \u001B[38;5;241m=\u001B[39m _refine_defaults_read(\n\u001B[1;32m    936\u001B[0m     dialect,\n\u001B[1;32m    937\u001B[0m     delimiter,\n\u001B[0;32m   (...)\u001B[0m\n\u001B[1;32m    944\u001B[0m     dtype_backend\u001B[38;5;241m=\u001B[39mdtype_backend,\n\u001B[1;32m    945\u001B[0m )\n\u001B[1;32m    946\u001B[0m kwds\u001B[38;5;241m.\u001B[39mupdate(kwds_defaults)\n\u001B[0;32m--> 948\u001B[0m \u001B[38;5;28;01mreturn\u001B[39;00m _read(filepath_or_buffer, kwds)\n",
      "File \u001B[0;32m~/anaconda3/envs/lab_2/lib/python3.11/site-packages/pandas/io/parsers/readers.py:611\u001B[0m, in \u001B[0;36m_read\u001B[0;34m(filepath_or_buffer, kwds)\u001B[0m\n\u001B[1;32m    608\u001B[0m _validate_names(kwds\u001B[38;5;241m.\u001B[39mget(\u001B[38;5;124m\"\u001B[39m\u001B[38;5;124mnames\u001B[39m\u001B[38;5;124m\"\u001B[39m, \u001B[38;5;28;01mNone\u001B[39;00m))\n\u001B[1;32m    610\u001B[0m \u001B[38;5;66;03m# Create the parser.\u001B[39;00m\n\u001B[0;32m--> 611\u001B[0m parser \u001B[38;5;241m=\u001B[39m TextFileReader(filepath_or_buffer, \u001B[38;5;241m*\u001B[39m\u001B[38;5;241m*\u001B[39mkwds)\n\u001B[1;32m    613\u001B[0m \u001B[38;5;28;01mif\u001B[39;00m chunksize \u001B[38;5;129;01mor\u001B[39;00m iterator:\n\u001B[1;32m    614\u001B[0m     \u001B[38;5;28;01mreturn\u001B[39;00m parser\n",
      "File \u001B[0;32m~/anaconda3/envs/lab_2/lib/python3.11/site-packages/pandas/io/parsers/readers.py:1448\u001B[0m, in \u001B[0;36mTextFileReader.__init__\u001B[0;34m(self, f, engine, **kwds)\u001B[0m\n\u001B[1;32m   1445\u001B[0m     \u001B[38;5;28mself\u001B[39m\u001B[38;5;241m.\u001B[39moptions[\u001B[38;5;124m\"\u001B[39m\u001B[38;5;124mhas_index_names\u001B[39m\u001B[38;5;124m\"\u001B[39m] \u001B[38;5;241m=\u001B[39m kwds[\u001B[38;5;124m\"\u001B[39m\u001B[38;5;124mhas_index_names\u001B[39m\u001B[38;5;124m\"\u001B[39m]\n\u001B[1;32m   1447\u001B[0m \u001B[38;5;28mself\u001B[39m\u001B[38;5;241m.\u001B[39mhandles: IOHandles \u001B[38;5;241m|\u001B[39m \u001B[38;5;28;01mNone\u001B[39;00m \u001B[38;5;241m=\u001B[39m \u001B[38;5;28;01mNone\u001B[39;00m\n\u001B[0;32m-> 1448\u001B[0m \u001B[38;5;28mself\u001B[39m\u001B[38;5;241m.\u001B[39m_engine \u001B[38;5;241m=\u001B[39m \u001B[38;5;28mself\u001B[39m\u001B[38;5;241m.\u001B[39m_make_engine(f, \u001B[38;5;28mself\u001B[39m\u001B[38;5;241m.\u001B[39mengine)\n",
      "File \u001B[0;32m~/anaconda3/envs/lab_2/lib/python3.11/site-packages/pandas/io/parsers/readers.py:1705\u001B[0m, in \u001B[0;36mTextFileReader._make_engine\u001B[0;34m(self, f, engine)\u001B[0m\n\u001B[1;32m   1703\u001B[0m     \u001B[38;5;28;01mif\u001B[39;00m \u001B[38;5;124m\"\u001B[39m\u001B[38;5;124mb\u001B[39m\u001B[38;5;124m\"\u001B[39m \u001B[38;5;129;01mnot\u001B[39;00m \u001B[38;5;129;01min\u001B[39;00m mode:\n\u001B[1;32m   1704\u001B[0m         mode \u001B[38;5;241m+\u001B[39m\u001B[38;5;241m=\u001B[39m \u001B[38;5;124m\"\u001B[39m\u001B[38;5;124mb\u001B[39m\u001B[38;5;124m\"\u001B[39m\n\u001B[0;32m-> 1705\u001B[0m \u001B[38;5;28mself\u001B[39m\u001B[38;5;241m.\u001B[39mhandles \u001B[38;5;241m=\u001B[39m get_handle(\n\u001B[1;32m   1706\u001B[0m     f,\n\u001B[1;32m   1707\u001B[0m     mode,\n\u001B[1;32m   1708\u001B[0m     encoding\u001B[38;5;241m=\u001B[39m\u001B[38;5;28mself\u001B[39m\u001B[38;5;241m.\u001B[39moptions\u001B[38;5;241m.\u001B[39mget(\u001B[38;5;124m\"\u001B[39m\u001B[38;5;124mencoding\u001B[39m\u001B[38;5;124m\"\u001B[39m, \u001B[38;5;28;01mNone\u001B[39;00m),\n\u001B[1;32m   1709\u001B[0m     compression\u001B[38;5;241m=\u001B[39m\u001B[38;5;28mself\u001B[39m\u001B[38;5;241m.\u001B[39moptions\u001B[38;5;241m.\u001B[39mget(\u001B[38;5;124m\"\u001B[39m\u001B[38;5;124mcompression\u001B[39m\u001B[38;5;124m\"\u001B[39m, \u001B[38;5;28;01mNone\u001B[39;00m),\n\u001B[1;32m   1710\u001B[0m     memory_map\u001B[38;5;241m=\u001B[39m\u001B[38;5;28mself\u001B[39m\u001B[38;5;241m.\u001B[39moptions\u001B[38;5;241m.\u001B[39mget(\u001B[38;5;124m\"\u001B[39m\u001B[38;5;124mmemory_map\u001B[39m\u001B[38;5;124m\"\u001B[39m, \u001B[38;5;28;01mFalse\u001B[39;00m),\n\u001B[1;32m   1711\u001B[0m     is_text\u001B[38;5;241m=\u001B[39mis_text,\n\u001B[1;32m   1712\u001B[0m     errors\u001B[38;5;241m=\u001B[39m\u001B[38;5;28mself\u001B[39m\u001B[38;5;241m.\u001B[39moptions\u001B[38;5;241m.\u001B[39mget(\u001B[38;5;124m\"\u001B[39m\u001B[38;5;124mencoding_errors\u001B[39m\u001B[38;5;124m\"\u001B[39m, \u001B[38;5;124m\"\u001B[39m\u001B[38;5;124mstrict\u001B[39m\u001B[38;5;124m\"\u001B[39m),\n\u001B[1;32m   1713\u001B[0m     storage_options\u001B[38;5;241m=\u001B[39m\u001B[38;5;28mself\u001B[39m\u001B[38;5;241m.\u001B[39moptions\u001B[38;5;241m.\u001B[39mget(\u001B[38;5;124m\"\u001B[39m\u001B[38;5;124mstorage_options\u001B[39m\u001B[38;5;124m\"\u001B[39m, \u001B[38;5;28;01mNone\u001B[39;00m),\n\u001B[1;32m   1714\u001B[0m )\n\u001B[1;32m   1715\u001B[0m \u001B[38;5;28;01massert\u001B[39;00m \u001B[38;5;28mself\u001B[39m\u001B[38;5;241m.\u001B[39mhandles \u001B[38;5;129;01mis\u001B[39;00m \u001B[38;5;129;01mnot\u001B[39;00m \u001B[38;5;28;01mNone\u001B[39;00m\n\u001B[1;32m   1716\u001B[0m f \u001B[38;5;241m=\u001B[39m \u001B[38;5;28mself\u001B[39m\u001B[38;5;241m.\u001B[39mhandles\u001B[38;5;241m.\u001B[39mhandle\n",
      "File \u001B[0;32m~/anaconda3/envs/lab_2/lib/python3.11/site-packages/pandas/io/common.py:863\u001B[0m, in \u001B[0;36mget_handle\u001B[0;34m(path_or_buf, mode, encoding, compression, memory_map, is_text, errors, storage_options)\u001B[0m\n\u001B[1;32m    858\u001B[0m \u001B[38;5;28;01melif\u001B[39;00m \u001B[38;5;28misinstance\u001B[39m(handle, \u001B[38;5;28mstr\u001B[39m):\n\u001B[1;32m    859\u001B[0m     \u001B[38;5;66;03m# Check whether the filename is to be opened in binary mode.\u001B[39;00m\n\u001B[1;32m    860\u001B[0m     \u001B[38;5;66;03m# Binary mode does not support 'encoding' and 'newline'.\u001B[39;00m\n\u001B[1;32m    861\u001B[0m     \u001B[38;5;28;01mif\u001B[39;00m ioargs\u001B[38;5;241m.\u001B[39mencoding \u001B[38;5;129;01mand\u001B[39;00m \u001B[38;5;124m\"\u001B[39m\u001B[38;5;124mb\u001B[39m\u001B[38;5;124m\"\u001B[39m \u001B[38;5;129;01mnot\u001B[39;00m \u001B[38;5;129;01min\u001B[39;00m ioargs\u001B[38;5;241m.\u001B[39mmode:\n\u001B[1;32m    862\u001B[0m         \u001B[38;5;66;03m# Encoding\u001B[39;00m\n\u001B[0;32m--> 863\u001B[0m         handle \u001B[38;5;241m=\u001B[39m \u001B[38;5;28mopen\u001B[39m(\n\u001B[1;32m    864\u001B[0m             handle,\n\u001B[1;32m    865\u001B[0m             ioargs\u001B[38;5;241m.\u001B[39mmode,\n\u001B[1;32m    866\u001B[0m             encoding\u001B[38;5;241m=\u001B[39mioargs\u001B[38;5;241m.\u001B[39mencoding,\n\u001B[1;32m    867\u001B[0m             errors\u001B[38;5;241m=\u001B[39merrors,\n\u001B[1;32m    868\u001B[0m             newline\u001B[38;5;241m=\u001B[39m\u001B[38;5;124m\"\u001B[39m\u001B[38;5;124m\"\u001B[39m,\n\u001B[1;32m    869\u001B[0m         )\n\u001B[1;32m    870\u001B[0m     \u001B[38;5;28;01melse\u001B[39;00m:\n\u001B[1;32m    871\u001B[0m         \u001B[38;5;66;03m# Binary mode\u001B[39;00m\n\u001B[1;32m    872\u001B[0m         handle \u001B[38;5;241m=\u001B[39m \u001B[38;5;28mopen\u001B[39m(handle, ioargs\u001B[38;5;241m.\u001B[39mmode)\n",
      "\u001B[0;31mFileNotFoundError\u001B[0m: [Errno 2] No such file or directory: 'data/feature_importance.csv'"
     ]
    }
   ],
   "source": [
    "# Let's load the dataset\n",
    "data = pd.read_csv('data/synth_data_for_training.csv')\n",
    "selected_features = pd.read_csv('data/feature_importance.csv', sep='.').head(20)['feature']\n",
    "random.seed(42)\n",
    "\n",
    "# randomize the data\n",
    "data = data.sample(frac=1, random_state=42)\n",
    "\n",
    "# split the data into train and test\n",
    "split_index = int(len(data) * 0.75)\n",
    "train = data.iloc[:split_index]\n",
    "test = data.iloc[split_index:]\n",
    "\n",
    "# modify train set to have a more balanced dataset with regards to language proficiency\n",
    "x_0 = defaultdict(list)\n",
    "x_1 = defaultdict(list)\n",
    "x_new = []\n",
    "bucket_size = 170 # days\n",
    "ratio = 0.05 # ratio of checked to unchecked for each bucket\n",
    "\n",
    "for i in range(len(train)):\n",
    "    index = int(train.iloc[i]['persoonlijke_eigenschappen_dagen_sinds_taaleis'] / bucket_size)\n",
    "    if train.iloc[i]['checked'] == 0:\n",
    "        x_0[index].append(train.iloc[i])\n",
    "    else:\n",
    "        x_1[index].append(train.iloc[i])\n",
    "\n",
    "for i in range(min(len(x_0.keys()), len(x_1.keys()))):\n",
    "    x_new += x_0[i]\n",
    "    if len(x_1[i]) / len(x_0[i]) < ratio:\n",
    "        x_new += x_1[i]\n",
    "        continue\n",
    "    n = int(len(x_0[i]) * ratio)\n",
    "    x_new += random.sample(x_1[i], n)\n",
    "\n",
    "# overwrite train set with new set\n",
    "train = pd.DataFrame(x_new)\n",
    "\n",
    "# TODO: @V changes here for other stages of the goodmodel pipeline\n",
    "\n"
   ]
  },
  {
   "cell_type": "code",
   "execution_count": null,
   "id": "ff0f82ce",
   "metadata": {
    "ExecuteTime": {
     "start_time": "2024-04-05T14:11:41.872320Z"
    }
   },
   "outputs": [],
   "source": [
    "column_list=list(data.columns)\n",
    "column_list.remove(\"checked\")"
   ]
  },
  {
   "cell_type": "code",
   "execution_count": null,
   "id": "1218c899",
   "metadata": {
    "ExecuteTime": {
     "start_time": "2024-04-05T14:11:41.873596Z"
    }
   },
   "outputs": [],
   "source": [
    "# split into X and Y and only use the selected features\n",
    "y_train = train['checked']\n",
    "X_train = train[selected_features]\n",
    "\n",
    "y_test = test['checked']\n",
    "X_test = test.drop(\"checked\",axis=1)"
   ]
  },
  {
   "cell_type": "code",
   "execution_count": null,
   "id": "1cee5b9d",
   "metadata": {
    "ExecuteTime": {
     "start_time": "2024-04-05T14:11:41.874846Z"
    }
   },
   "outputs": [],
   "source": [
    "threshold_age=37"
   ]
  },
  {
   "cell_type": "code",
   "execution_count": null,
   "id": "45394861",
   "metadata": {
    "ExecuteTime": {
     "start_time": "2024-04-05T14:11:41.875944Z"
    }
   },
   "outputs": [],
   "source": [
    "\n",
    "# Filter the training data for individuals over the age of 37\n",
    "X_train_over_37 = X_train[X_train['persoon_leeftijd_bij_onderzoek'] > threshold_age]\n",
    "y_train_over_37 = y_train[X_train_over_37.index]\n",
    "# Filter the training data for individuals under the age of 37\n",
    "X_train_under_37 = X_train[X_train['persoon_leeftijd_bij_onderzoek'] <= threshold_age]\n",
    "y_train_under_37 = y_train[X_train_under_37.index]\n",
    "desired_ratio=0.04\n",
    "minority_len=sum(y_train_under_37)\n",
    "majority_len=minority_len/0.03\n",
    "sampling_strategy={0:int(majority_len),1:int(minority_len)}\n",
    "# Apply SMOTE (Synthetic Minority Over-sampling Technique) to oversample the minority class\n",
    "smote = SMOTE(sampling_strategy=sampling_strategy)\n",
    "X_train_augmented_under_37, y_train_augmented_under_37 = smote.fit_resample(X_train_under_37, y_train_under_37)\n",
    "\n",
    "\n",
    "\n",
    "# Concatenate the augmented data with the original training data for individuals under 37\n",
    "X_train_augmented = pd.concat([X_train_augmented_under_37, X_train_over_37])\n",
    "y_train_augmented = pd.concat([y_train_augmented_under_37, y_train_over_37])\n",
    "# Ensure that the indices are reset after concatenation\n",
    "X_train_augmented.reset_index(drop=True, inplace=True)\n",
    "y_train_augmented.reset_index(drop=True, inplace=True)"
   ]
  },
  {
   "cell_type": "markdown",
   "id": "8b02d7aa",
   "metadata": {},
   "source": [
    "#### Reshape augmented dataframe to match the original dataset"
   ]
  },
  {
   "cell_type": "code",
   "execution_count": null,
   "id": "8331688d",
   "metadata": {
    "ExecuteTime": {
     "start_time": "2024-04-05T14:11:41.876744Z"
    }
   },
   "outputs": [],
   "source": [
    "empty_train_df = pd.DataFrame(0, index=X_train_augmented.index, columns=X_test.columns.difference(selected_features))\n",
    "# Concatenate selected features with empty DataFrames\n",
    "X_train_new = pd.concat([X_train_augmented, empty_train_df], axis=1)\n",
    "# Reshape to match original shape\n",
    "X_train_new=X_train_new[X_test.columns]"
   ]
  },
  {
   "cell_type": "code",
   "execution_count": null,
   "id": "774c19da6ac1805f",
   "metadata": {
    "collapsed": false,
    "ExecuteTime": {
     "start_time": "2024-04-05T14:11:41.877618Z"
    }
   },
   "outputs": [],
   "source": [
    "selector = VarianceThreshold()\n",
    "classifier = GradientBoostingClassifier(n_estimators=100, learning_rate=1, max_depth=1, random_state=0)\n",
    "pipeline = Pipeline(steps=[('feature selection', selector), ('classification', classifier)])\n",
    "pipeline.fit(X_train_new, \n",
    "             y_train_augmented\n",
    "             )\n",
    "\n",
    "y_pred = pipeline.predict(X_test)\n",
    "original_accuracy = accuracy_score(y_test, y_pred)\n",
    "print('Accuracy of the original model: ', original_accuracy)"
   ]
  },
  {
   "cell_type": "code",
   "execution_count": null,
   "id": "885162f6",
   "metadata": {
    "ExecuteTime": {
     "start_time": "2024-04-05T14:11:41.878358Z"
    }
   },
   "outputs": [],
   "source": []
  },
  {
   "cell_type": "code",
   "execution_count": null,
   "id": "4e5c510f6388e983",
   "metadata": {
    "collapsed": false,
    "ExecuteTime": {
     "start_time": "2024-04-05T14:11:41.879306Z"
    }
   },
   "outputs": [],
   "source": [
    "onnx_model = convert_sklearn(\n",
    "    pipeline, initial_types=[('X', FloatTensorType((None, X_test.shape[1])))],\n",
    "    target_opset=12)\n",
    "\n",
    "model_name = 'goodmodel'\n",
    "onnx.save(onnx_model, f'model/{model_name}.onnx')\n",
    "new_session = rt.InferenceSession(f'model/{model_name}.onnx')\n",
    "\n",
    "y_pred_onnx =  new_session.run(None, {'X': X_test.values.astype(np.float32)})\n",
    "\n",
    "accuracy_onnx_model = accuracy_score(y_test, y_pred_onnx[0])\n",
    "print('Accuracy of the ONNX model: ', accuracy_onnx_model)"
   ]
  }
 ],
 "metadata": {
  "kernelspec": {
   "display_name": "Python 3",
   "language": "python",
   "name": "python3"
  },
  "language_info": {
   "codemirror_mode": {
    "name": "ipython",
    "version": 3
   },
   "file_extension": ".py",
   "mimetype": "text/x-python",
   "name": "python",
   "nbconvert_exporter": "python",
   "pygments_lexer": "ipython3",
   "version": "3.11.6"
  }
 },
 "nbformat": 4,
 "nbformat_minor": 5
}
