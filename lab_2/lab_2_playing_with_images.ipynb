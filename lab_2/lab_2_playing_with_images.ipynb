{
 "cells": [
  {
   "cell_type": "code",
   "execution_count": 1,
   "metadata": {
    "ExecuteTime": {
     "end_time": "2024-02-23T15:17:24.024059Z",
     "start_time": "2024-02-23T15:16:51.076963Z"
    }
   },
   "outputs": [
    {
     "name": "stdout",
     "output_type": "stream",
     "text": [
      "0 Physical GPUs, 0 Logical GPUs\n",
      "Version:  2.15.0\n",
      "Eager mode:  True\n",
      "GPU is NOT AVAILABLE\n",
      "Downloading data from https://storage.googleapis.com/tensorflow/keras-applications/vgg16/vgg16_weights_tf_dim_ordering_tf_kernels.h5\n",
      "553467096/553467096 [==============================] - 29s 0us/step\n"
     ]
    }
   ],
   "source": [
    "# Import relevant modules\n",
    "# ImagePrediction is a helper module (helpers/image_models) that assists with setting up the image recognition models\n",
    "# and getting a prediction.\n",
    "import cv2\n",
    "import numpy as np\n",
    "import random\n",
    "from PIL import Image\n",
    "from matplotlib import pyplot as plt\n",
    "from helpers.image_models import ImagePrediction\n",
    "# Ground truth helper so we can see the ground truth of an Imagenet image.\n",
    "from validate_ground_truth.imagenet_ground_truth import ImagenetGroundTruth\n",
    "# Instantiates the ImagePrediction object with the vgg16 model\n",
    "predictor = ImagePrediction(model_name=\"vgg16\")\n",
    "# Instantiates the ImagenetGroundTruth object\n",
    "ground_truth = ImagenetGroundTruth()"
   ]
  },
  {
   "cell_type": "code",
   "execution_count": 2,
   "metadata": {
    "ExecuteTime": {
     "end_time": "2024-02-23T15:17:24.417412Z",
     "start_time": "2024-02-23T15:17:24.024330Z"
    }
   },
   "outputs": [
    {
     "name": "stdout",
     "output_type": "stream",
     "text": [
      "Downloading data from https://storage.googleapis.com/download.tensorflow.org/data/imagenet_class_index.json\n",
      "35363/35363 [==============================] - 0s 0us/step\n",
      "[('n02437616', 'llama', 0.9984397), ('n02417914', 'ibex', 0.00045074782), ('n02412080', 'ram', 0.0003347307), ('n01518878', 'ostrich', 0.00028087143), ('n02423022', 'gazelle', 0.00020455045), ('n02415577', 'bighorn', 0.00011685205), ('n02326432', 'hare', 9.440649e-05), ('n01806143', 'peacock', 1.0596843e-05), ('n02391049', 'zebra', 9.451463e-06), ('n01877812', 'wallaby', 5.0913545e-06)]\n"
     ]
    }
   ],
   "source": [
    "# Will use the predictor to give us a prediction fitness for the llama image.\n",
    "print(predictor.get_prediction(\"./random_images/llama.jpg\"))"
   ]
  },
  {
   "cell_type": "code",
   "execution_count": 3,
   "metadata": {
    "ExecuteTime": {
     "end_time": "2024-02-23T15:17:24.656236Z",
     "start_time": "2024-02-23T15:17:24.417332Z"
    }
   },
   "outputs": [
    {
     "name": "stdout",
     "output_type": "stream",
     "text": [
      "[('n04467665', 'trailer_truck', 0.6130443), ('n03796401', 'moving_van', 0.18597458), ('n03417042', 'garbage_truck', 0.17115846), ('n04065272', 'recreational_vehicle', 0.01292002), ('n04461696', 'tow_truck', 0.004495148), ('n03776460', 'mobile_home', 0.0028719658), ('n03345487', 'fire_engine', 0.0025651865), ('n03769881', 'minibus', 0.0014597897), ('n02701002', 'ambulance', 0.001394818), ('n03384352', 'forklift', 0.0006029678)]\n"
     ]
    }
   ],
   "source": [
    "# Will use the predictor to give us a prediction fitness for the truck image.\n",
    "print(predictor.get_prediction(\"./random_images/truck.jpg\"))"
   ]
  },
  {
   "cell_type": "code",
   "execution_count": 4,
   "metadata": {
    "ExecuteTime": {
     "end_time": "2024-02-23T15:17:24.790310Z",
     "start_time": "2024-02-23T15:17:24.653346Z"
    }
   },
   "outputs": [
    {
     "name": "stdout",
     "output_type": "stream",
     "text": [
      "[('n02120505', 'grey_fox', 0.71067125), ('n02114855', 'coyote', 0.21894883), ('n02119789', 'kit_fox', 0.035443097), ('n02119022', 'red_fox', 0.016821338), ('n02114712', 'red_wolf', 0.006262531), ('n01877812', 'wallaby', 0.0045209085), ('n02326432', 'hare', 0.0021693334), ('n02325366', 'wood_rabbit', 0.0020182133), ('n02114367', 'timber_wolf', 0.0008821066), ('n02127052', 'lynx', 0.0007048801)]\n",
      "True\n"
     ]
    }
   ],
   "source": [
    "# Gets the prediction for the Imagenet image 'grey_fox' and validates if the ground_truth for this image is correct.\n",
    "prediction = predictor.get_prediction(\"./imagenet_images/ILSVRC2012_val_00000323.JPEG\")\n",
    "print(prediction)\n",
    "print(ground_truth.validate_ground_truth(\"imagenet_images/ILSVRC2012_val_00000323.JPEG\", prediction[0][0]))"
   ]
  },
  {
   "cell_type": "code",
   "execution_count": 5,
   "metadata": {
    "ExecuteTime": {
     "end_time": "2024-02-23T15:17:24.997920Z",
     "start_time": "2024-02-23T15:17:24.788473Z"
    }
   },
   "outputs": [
    {
     "name": "stdout",
     "output_type": "stream",
     "text": [
      "[('n02120079', 'Arctic_fox', 0.9021169), ('n02134084', 'ice_bear', 0.0374206), ('n02114548', 'white_wolf', 0.02616428), ('n02441942', 'weasel', 0.025217723), ('n02326432', 'hare', 0.0026365125), ('n02111889', 'Samoyed', 0.0025606796), ('n02109961', 'Eskimo_dog', 0.0014540001), ('n02110185', 'Siberian_husky', 0.0006840612), ('n02442845', 'mink', 0.00034034983), ('n02114367', 'timber_wolf', 0.0002977586)]\n"
     ]
    }
   ],
   "source": [
    "# Gets the fitness prediction for the arctic fox image.\n",
    "arctic_fox = predictor.get_prediction(\"./random_images/arctic-fox.jpg\")\n",
    "print(arctic_fox)"
   ]
  },
  {
   "cell_type": "code",
   "execution_count": 6,
   "metadata": {
    "ExecuteTime": {
     "end_time": "2024-02-23T15:17:25.163911Z",
     "start_time": "2024-02-23T15:17:24.998078Z"
    }
   },
   "outputs": [
    {
     "name": "stdout",
     "output_type": "stream",
     "text": [
      "[('n02120079', 'Arctic_fox', 0.80227584), ('n02114548', 'white_wolf', 0.07066281), ('n02134084', 'ice_bear', 0.044756357), ('n02441942', 'weasel', 0.026944483), ('n02111889', 'Samoyed', 0.022159975), ('n02326432', 'hare', 0.008744982), ('n02442845', 'mink', 0.0021549524), ('n02109961', 'Eskimo_dog', 0.0014565279), ('n01877812', 'wallaby', 0.0013594517), ('n03794056', 'mousetrap', 0.0013465774)]\n"
     ]
    }
   ],
   "source": [
    "# Gets the fitness prediction for the arctic fox sepia image.\n",
    "# This is the same image as arctic fox but simply modified to be a sepia colour.\n",
    "arctic_fox_sepia = predictor.get_prediction(\"./random_images/arctic-fox-sepia.jpg\")\n",
    "print(arctic_fox_sepia)"
   ]
  },
  {
   "cell_type": "code",
   "execution_count": 7,
   "metadata": {
    "ExecuteTime": {
     "end_time": "2024-02-23T15:17:25.167915Z",
     "start_time": "2024-02-23T15:17:25.161977Z"
    }
   },
   "outputs": [
    {
     "name": "stdout",
     "output_type": "stream",
     "text": [
      "0.09984106\n"
     ]
    }
   ],
   "source": [
    "# Gives us the amount the fitness has decreased between the original and sepia image.\n",
    "# We can see that by just applying a very small change in colour to the image, that we can already reduce the fitness.\n",
    "print(arctic_fox[0][2] - arctic_fox_sepia[0][2])"
   ]
  },
  {
   "cell_type": "code",
   "execution_count": 15,
   "metadata": {
    "ExecuteTime": {
     "end_time": "2024-02-23T15:27:38.446499Z",
     "start_time": "2024-02-23T15:27:38.156366Z"
    }
   },
   "outputs": [
    {
     "name": "stdout",
     "output_type": "stream",
     "text": [
      "[('n02417914', 'ibex', 0.47466332), ('n02437616', 'llama', 0.40100285), ('n02326432', 'hare', 0.07232786), ('n02415577', 'bighorn', 0.009352403), ('n02423022', 'gazelle', 0.009291524), ('n02412080', 'ram', 0.008976868), ('n01877812', 'wallaby', 0.007323675), ('n02396427', 'wild_boar', 0.0011894159), ('n02056570', 'king_penguin', 0.00076480047), ('n02127052', 'lynx', 0.00073175586)]\n"
     ]
    }
   ],
   "source": [
    "# Your task now is to expand on this experiment by manually making changes to the provided images as well as any other images you can find.\n",
    "# Start by running the image through the predictor to get a baseline fitness.\n",
    "# Then copy and modify the image to see what effect this has on the fitness.\n",
    "# Are there any situations where you can flip the top-1 prediction by making these changes to the image.\n",
    "# (NOTE - This may be easier with an image that already has a low prediction fitness to begin with)\n",
    "\n",
    "\n",
    "def random_black_pixels(image_path, percentage):\n",
    "    img = cv2.imread(image_path)\n",
    "    img = cv2.cvtColor(img, cv2.COLOR_BGR2RGB)\n",
    "    img = img / 255.0\n",
    "    img = img.astype(np.float32)\n",
    "    img = img.reshape(-1, 3)\n",
    "    for i in range(int(len(img) * percentage)):\n",
    "        img[random.randint(0, len(img) - 1)] = [0, 0, 0]\n",
    "    img = img.reshape(718, 960, 3)\n",
    "    img = img * 255.0\n",
    "    img = img.astype(np.uint8)\n",
    "    img = Image.fromarray(img)\n",
    "    return img\n",
    "\n",
    "# change image ./random_images/llama.jpg with 50% of the pixels to black\n",
    "img = random_black_pixels(\"./random_images/llama.jpg\", 0.4)\n",
    "\n",
    "# save the image\n",
    "img.save(\"./modified_images/llama.jpg\")\n",
    "\n",
    "# get the prediction for the modified image\n",
    "print(predictor.get_prediction(\"./modified_images/llama.jpg\"))\n"
   ]
  },
  {
   "cell_type": "markdown",
   "source": [
    "Now the llama is being classifed as an ibex, which is weird because we can still identify the llama in the image. This is a case where the top-1 prediction was flipped by making changes to the image."
   ],
   "metadata": {
    "collapsed": false
   }
  },
  {
   "cell_type": "code",
   "execution_count": 20,
   "outputs": [
    {
     "name": "stdout",
     "output_type": "stream",
     "text": [
      "[('n03796401', 'moving_van', 0.37529966), ('n03417042', 'garbage_truck', 0.15808234), ('n02701002', 'ambulance', 0.1555137), ('n04467665', 'trailer_truck', 0.061914496), ('n03345487', 'fire_engine', 0.05397009), ('n03769881', 'minibus', 0.04172391), ('n04065272', 'recreational_vehicle', 0.032933004), ('n03977966', 'police_van', 0.020025576), ('n04461696', 'tow_truck', 0.017693216), ('n03776460', 'mobile_home', 0.014476869)]\n"
     ]
    }
   ],
   "source": [
    "# We randomly want to change either R, G or B to double the amount of the original value\n",
    "\n",
    "def double_rgb_values(image_path):\n",
    "    # Read the image\n",
    "    img = cv2.imread(image_path)\n",
    "\n",
    "    # Convert color space from BGR to RGB\n",
    "    img = cv2.cvtColor(img, cv2.COLOR_BGR2RGB)\n",
    "\n",
    "    # Normalize the image to 0-1 range and convert to float32 for precise multiplication\n",
    "    img = img / 255.0\n",
    "    img = img.astype(np.float32)\n",
    "\n",
    "    # Double all the RGB values and ensure the values are within [0, 1] after doubling\n",
    "    img = np.clip(img * 3, 0, 1)\n",
    "\n",
    "    # Convert back to 0-255 range and to uint8\n",
    "    img = np.clip(img * 255.0, 0, 255).astype(np.uint8)\n",
    "\n",
    "    # Convert the numpy array back to a PIL image\n",
    "    img = Image.fromarray(img)\n",
    "\n",
    "    return img\n",
    "\n",
    "# change the truck image\n",
    "img = double_rgb_values(\"./random_images/truck.jpg\")\n",
    "\n",
    "# save the image\n",
    "img.save(\"./modified_images/truck.jpg\")\n",
    "\n",
    "# get the prediction for the modified image\n",
    "print(predictor.get_prediction(\"./modified_images/truck.jpg\"))\n"
   ],
   "metadata": {
    "collapsed": false,
    "ExecuteTime": {
     "end_time": "2024-02-23T15:40:35.416491Z",
     "start_time": "2024-02-23T15:40:35.239356Z"
    }
   }
  },
  {
   "cell_type": "markdown",
   "source": [
    "This is now being classified as a moving_van but we can still see its a truck."
   ],
   "metadata": {
    "collapsed": false
   }
  },
  {
   "cell_type": "code",
   "execution_count": 27,
   "outputs": [
    {
     "name": "stdout",
     "output_type": "stream",
     "text": [
      "[('n03000684', 'chain_saw', 0.37360898), ('n02226429', 'grasshopper', 0.1234823), ('n02236044', 'mantis', 0.077015236), ('n02168699', 'long-horned_beetle', 0.06346717), ('n02231487', 'walking_stick', 0.04875064), ('n02229544', 'cricket', 0.040888287), ('n03649909', 'lawn_mower', 0.02872657), ('n02167151', 'ground_beetle', 0.028077086), ('n02165105', 'tiger_beetle', 0.027187046), ('n02233338', 'cockroach', 0.014033518)]\n",
      "\n",
      "\n",
      "\n",
      "\n",
      "original_image [('n03649909', 'lawn_mower', 0.93379766), ('n03967562', 'plow', 0.008322287), ('n04465501', 'tractor', 0.007575278), ('n02002556', 'white_stork', 0.005605583), ('n04482393', 'tricycle', 0.004658327), ('n04254680', 'soccer_ball', 0.0039846017), ('n03000684', 'chain_saw', 0.0032816522), ('n02797295', 'barrow', 0.0023677172), ('n04371774', 'swing', 0.0022201233), ('n03134739', 'croquet_ball', 0.002172703)]\n"
     ]
    }
   ],
   "source": [
    "# Function that rotates the image by X degrees\n",
    "def rotate_image(image_path):\n",
    "    # Read the image\n",
    "    img = cv2.imread(image_path)\n",
    "\n",
    "    # Rotate the image\n",
    "    img = cv2.rotate(img, cv2.ROTATE_90_CLOCKWISE)\n",
    "\n",
    "    # Convert the image to RGB\n",
    "    img = cv2.cvtColor(img, cv2.COLOR_BGR2RGB)\n",
    "\n",
    "    # Convert the numpy array back to a PIL image\n",
    "    img = Image.fromarray(img)\n",
    "\n",
    "    return img\n",
    "\n",
    "# rotate the truck image by 90 degrees\n",
    "img = rotate_image(\"./imagenet_images/ILSVRC2012_val_00005053.JPEG\")\n",
    "\n",
    "# save the image\n",
    "img.save(\"./modified_images/rotated_truck.jpg\")\n",
    "\n",
    "# get the prediction for the modified image\n",
    "print(predictor.get_prediction(\"./modified_images/rotated_truck.jpg\"))\n",
    "print(\"\\n\\n\\n\")\n",
    "print(\"original_image\", predictor.get_prediction(\"./imagenet_images/ILSVRC2012_val_00005053.JPEG\"))"
   ],
   "metadata": {
    "collapsed": false,
    "ExecuteTime": {
     "end_time": "2024-02-23T15:56:03.812089Z",
     "start_time": "2024-02-23T15:56:03.535884Z"
    }
   }
  },
  {
   "cell_type": "code",
   "execution_count": 25,
   "metadata": {
    "ExecuteTime": {
     "end_time": "2024-02-23T15:50:08.731334Z",
     "start_time": "2024-02-23T15:50:08.571990Z"
    }
   },
   "outputs": [
    {
     "name": "stdout",
     "output_type": "stream",
     "text": [
      "[('n04467665', 'trailer_truck', 0.45895877), ('n03796401', 'moving_van', 0.2885381), ('n03417042', 'garbage_truck', 0.14200899), ('n04065272', 'recreational_vehicle', 0.05702225), ('n02701002', 'ambulance', 0.007968304), ('n03769881', 'minibus', 0.007016168), ('n03776460', 'mobile_home', 0.006815996), ('n04461696', 'tow_truck', 0.006362023), ('n03345487', 'fire_engine', 0.0056364345), ('n03445924', 'golfcart', 0.0026690678)]\n"
     ]
    }
   ],
   "source": [
    "# Function that mirrors the image\n",
    "def mirror_image(image_path):\n",
    "    # Read the image\n",
    "    img = cv2.imread(image_path)\n",
    "\n",
    "    # Mirror the image\n",
    "    img = cv2.flip(img, 1)\n",
    "\n",
    "    # Convert the image to RGB\n",
    "    img = cv2.cvtColor(img, cv2.COLOR_BGR2RGB)\n",
    "\n",
    "    # Convert the numpy array back to a PIL image\n",
    "    img = Image.fromarray(img)\n",
    "\n",
    "    return img\n",
    "\n",
    "# mirror the truck image\n",
    "img = mirror_image(\"./random_images/truck.jpg\")\n",
    "\n",
    "# save the image\n",
    "img.save(\"./modified_images/mirrored_truck.jpg\")\n",
    "\n",
    "# get the prediction for the modified image\n",
    "print(predictor.get_prediction(\"./modified_images/mirrored_truck.jpg\"))"
   ]
  },
  {
   "cell_type": "code",
   "execution_count": null,
   "outputs": [],
   "source": [],
   "metadata": {
    "collapsed": false
   }
  }
 ],
 "metadata": {
  "kernelspec": {
   "display_name": "Python 3.10.8 ('CS4370-Ozgfi3NM')",
   "language": "python",
   "name": "python3"
  },
  "language_info": {
   "codemirror_mode": {
    "name": "ipython",
    "version": 3
   },
   "file_extension": ".py",
   "mimetype": "text/x-python",
   "name": "python",
   "nbconvert_exporter": "python",
   "pygments_lexer": "ipython3",
   "version": "3.11.8"
  },
  "orig_nbformat": 4,
  "vscode": {
   "interpreter": {
    "hash": "97666b196638f24d7ab12e1d9bb763b82228415352c3dcf19abb3d6d02379789"
   }
  }
 },
 "nbformat": 4,
 "nbformat_minor": 2
}
